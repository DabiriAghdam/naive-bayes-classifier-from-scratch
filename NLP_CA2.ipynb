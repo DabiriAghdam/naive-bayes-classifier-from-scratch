{
  "nbformat": 4,
  "nbformat_minor": 0,
  "metadata": {
    "colab": {
      "name": "NLP_CA2.ipynb",
      "provenance": [],
      "collapsed_sections": []
    },
    "kernelspec": {
      "name": "python3",
      "display_name": "Python 3"
    },
    "language_info": {
      "name": "python"
    }
  },
  "cells": [
    {
      "cell_type": "markdown",
      "source": [
        "# «به نام خدا»\n",
        "## پردازش زبان طبیعی \n",
        "## تمرین کامپیوتری شماره 2\n",
        "## Naive Bayes\n",
        "### امیرحسین دبیری اقدم - 810197502\n",
        "#####  دانشگاه تهران - فروردین 1401"
      ],
      "metadata": {
        "id": "C16vB0Yzjm59"
      }
    },
    {
      "cell_type": "code",
      "execution_count": 1,
      "metadata": {
        "id": "29_4jaEapYnm"
      },
      "outputs": [],
      "source": [
        "import numpy as np\n",
        "import pandas as pd\n",
        "import nltk\n",
        "from nltk import word_tokenize, pos_tag\n",
        "from nltk.corpus import stopwords\n",
        "from nltk.stem import *\n",
        "from sklearn.feature_extraction.text import CountVectorizer, TfidfTransformer\n",
        "import scipy.sparse as sp\n",
        "from scipy.sparse import hstack\n",
        "from sklearn.model_selection import train_test_split\n",
        "from sklearn.naive_bayes import MultinomialNB\n",
        "from sklearn import metrics\n",
        "from sklearn.metrics import precision_recall_fscore_support, classification_report \n",
        "from sklearn.metrics import confusion_matrix, ConfusionMatrixDisplay\n",
        "import matplotlib.pyplot as plt\n",
        "import seaborn as sns\n",
        "plt.style.use('seaborn')"
      ]
    },
    {
      "cell_type": "markdown",
      "source": [
        "# **Spam or Ham SMS Detection**"
      ],
      "metadata": {
        "id": "OUeGhIs-wrBg"
      }
    },
    {
      "cell_type": "code",
      "source": [
        "df = pd.read_csv('spam.csv',  encoding='ISO-8859-1')"
      ],
      "metadata": {
        "id": "0iU0ZW2Z11vU"
      },
      "execution_count": 2,
      "outputs": []
    },
    {
      "cell_type": "code",
      "source": [
        "df"
      ],
      "metadata": {
        "id": "oIoX-i0ZAQdu",
        "colab": {
          "base_uri": "https://localhost:8080/",
          "height": 423
        },
        "outputId": "48f787cb-8ea5-4b41-dfdc-b6482546cf86"
      },
      "execution_count": 3,
      "outputs": [
        {
          "output_type": "execute_result",
          "data": {
            "text/plain": [
              "        v1                                                 v2 Unnamed: 2  \\\n",
              "0      ham  Go until jurong point, crazy.. Available only ...        NaN   \n",
              "1      ham                      Ok lar... Joking wif u oni...        NaN   \n",
              "2     spam  Free entry in 2 a wkly comp to win FA Cup fina...        NaN   \n",
              "3      ham  U dun say so early hor... U c already then say...        NaN   \n",
              "4      ham  Nah I don't think he goes to usf, he lives aro...        NaN   \n",
              "...    ...                                                ...        ...   \n",
              "5567  spam  This is the 2nd time we have tried 2 contact u...        NaN   \n",
              "5568   ham              Will Ì_ b going to esplanade fr home?        NaN   \n",
              "5569   ham  Pity, * was in mood for that. So...any other s...        NaN   \n",
              "5570   ham  The guy did some bitching but I acted like i'd...        NaN   \n",
              "5571   ham                         Rofl. Its true to its name        NaN   \n",
              "\n",
              "     Unnamed: 3 Unnamed: 4  \n",
              "0           NaN        NaN  \n",
              "1           NaN        NaN  \n",
              "2           NaN        NaN  \n",
              "3           NaN        NaN  \n",
              "4           NaN        NaN  \n",
              "...         ...        ...  \n",
              "5567        NaN        NaN  \n",
              "5568        NaN        NaN  \n",
              "5569        NaN        NaN  \n",
              "5570        NaN        NaN  \n",
              "5571        NaN        NaN  \n",
              "\n",
              "[5572 rows x 5 columns]"
            ],
            "text/html": [
              "\n",
              "  <div id=\"df-c2b59466-36e7-4717-9be2-9e16c3a8202b\">\n",
              "    <div class=\"colab-df-container\">\n",
              "      <div>\n",
              "<style scoped>\n",
              "    .dataframe tbody tr th:only-of-type {\n",
              "        vertical-align: middle;\n",
              "    }\n",
              "\n",
              "    .dataframe tbody tr th {\n",
              "        vertical-align: top;\n",
              "    }\n",
              "\n",
              "    .dataframe thead th {\n",
              "        text-align: right;\n",
              "    }\n",
              "</style>\n",
              "<table border=\"1\" class=\"dataframe\">\n",
              "  <thead>\n",
              "    <tr style=\"text-align: right;\">\n",
              "      <th></th>\n",
              "      <th>v1</th>\n",
              "      <th>v2</th>\n",
              "      <th>Unnamed: 2</th>\n",
              "      <th>Unnamed: 3</th>\n",
              "      <th>Unnamed: 4</th>\n",
              "    </tr>\n",
              "  </thead>\n",
              "  <tbody>\n",
              "    <tr>\n",
              "      <th>0</th>\n",
              "      <td>ham</td>\n",
              "      <td>Go until jurong point, crazy.. Available only ...</td>\n",
              "      <td>NaN</td>\n",
              "      <td>NaN</td>\n",
              "      <td>NaN</td>\n",
              "    </tr>\n",
              "    <tr>\n",
              "      <th>1</th>\n",
              "      <td>ham</td>\n",
              "      <td>Ok lar... Joking wif u oni...</td>\n",
              "      <td>NaN</td>\n",
              "      <td>NaN</td>\n",
              "      <td>NaN</td>\n",
              "    </tr>\n",
              "    <tr>\n",
              "      <th>2</th>\n",
              "      <td>spam</td>\n",
              "      <td>Free entry in 2 a wkly comp to win FA Cup fina...</td>\n",
              "      <td>NaN</td>\n",
              "      <td>NaN</td>\n",
              "      <td>NaN</td>\n",
              "    </tr>\n",
              "    <tr>\n",
              "      <th>3</th>\n",
              "      <td>ham</td>\n",
              "      <td>U dun say so early hor... U c already then say...</td>\n",
              "      <td>NaN</td>\n",
              "      <td>NaN</td>\n",
              "      <td>NaN</td>\n",
              "    </tr>\n",
              "    <tr>\n",
              "      <th>4</th>\n",
              "      <td>ham</td>\n",
              "      <td>Nah I don't think he goes to usf, he lives aro...</td>\n",
              "      <td>NaN</td>\n",
              "      <td>NaN</td>\n",
              "      <td>NaN</td>\n",
              "    </tr>\n",
              "    <tr>\n",
              "      <th>...</th>\n",
              "      <td>...</td>\n",
              "      <td>...</td>\n",
              "      <td>...</td>\n",
              "      <td>...</td>\n",
              "      <td>...</td>\n",
              "    </tr>\n",
              "    <tr>\n",
              "      <th>5567</th>\n",
              "      <td>spam</td>\n",
              "      <td>This is the 2nd time we have tried 2 contact u...</td>\n",
              "      <td>NaN</td>\n",
              "      <td>NaN</td>\n",
              "      <td>NaN</td>\n",
              "    </tr>\n",
              "    <tr>\n",
              "      <th>5568</th>\n",
              "      <td>ham</td>\n",
              "      <td>Will Ì_ b going to esplanade fr home?</td>\n",
              "      <td>NaN</td>\n",
              "      <td>NaN</td>\n",
              "      <td>NaN</td>\n",
              "    </tr>\n",
              "    <tr>\n",
              "      <th>5569</th>\n",
              "      <td>ham</td>\n",
              "      <td>Pity, * was in mood for that. So...any other s...</td>\n",
              "      <td>NaN</td>\n",
              "      <td>NaN</td>\n",
              "      <td>NaN</td>\n",
              "    </tr>\n",
              "    <tr>\n",
              "      <th>5570</th>\n",
              "      <td>ham</td>\n",
              "      <td>The guy did some bitching but I acted like i'd...</td>\n",
              "      <td>NaN</td>\n",
              "      <td>NaN</td>\n",
              "      <td>NaN</td>\n",
              "    </tr>\n",
              "    <tr>\n",
              "      <th>5571</th>\n",
              "      <td>ham</td>\n",
              "      <td>Rofl. Its true to its name</td>\n",
              "      <td>NaN</td>\n",
              "      <td>NaN</td>\n",
              "      <td>NaN</td>\n",
              "    </tr>\n",
              "  </tbody>\n",
              "</table>\n",
              "<p>5572 rows × 5 columns</p>\n",
              "</div>\n",
              "      <button class=\"colab-df-convert\" onclick=\"convertToInteractive('df-c2b59466-36e7-4717-9be2-9e16c3a8202b')\"\n",
              "              title=\"Convert this dataframe to an interactive table.\"\n",
              "              style=\"display:none;\">\n",
              "        \n",
              "  <svg xmlns=\"http://www.w3.org/2000/svg\" height=\"24px\"viewBox=\"0 0 24 24\"\n",
              "       width=\"24px\">\n",
              "    <path d=\"M0 0h24v24H0V0z\" fill=\"none\"/>\n",
              "    <path d=\"M18.56 5.44l.94 2.06.94-2.06 2.06-.94-2.06-.94-.94-2.06-.94 2.06-2.06.94zm-11 1L8.5 8.5l.94-2.06 2.06-.94-2.06-.94L8.5 2.5l-.94 2.06-2.06.94zm10 10l.94 2.06.94-2.06 2.06-.94-2.06-.94-.94-2.06-.94 2.06-2.06.94z\"/><path d=\"M17.41 7.96l-1.37-1.37c-.4-.4-.92-.59-1.43-.59-.52 0-1.04.2-1.43.59L10.3 9.45l-7.72 7.72c-.78.78-.78 2.05 0 2.83L4 21.41c.39.39.9.59 1.41.59.51 0 1.02-.2 1.41-.59l7.78-7.78 2.81-2.81c.8-.78.8-2.07 0-2.86zM5.41 20L4 18.59l7.72-7.72 1.47 1.35L5.41 20z\"/>\n",
              "  </svg>\n",
              "      </button>\n",
              "      \n",
              "  <style>\n",
              "    .colab-df-container {\n",
              "      display:flex;\n",
              "      flex-wrap:wrap;\n",
              "      gap: 12px;\n",
              "    }\n",
              "\n",
              "    .colab-df-convert {\n",
              "      background-color: #E8F0FE;\n",
              "      border: none;\n",
              "      border-radius: 50%;\n",
              "      cursor: pointer;\n",
              "      display: none;\n",
              "      fill: #1967D2;\n",
              "      height: 32px;\n",
              "      padding: 0 0 0 0;\n",
              "      width: 32px;\n",
              "    }\n",
              "\n",
              "    .colab-df-convert:hover {\n",
              "      background-color: #E2EBFA;\n",
              "      box-shadow: 0px 1px 2px rgba(60, 64, 67, 0.3), 0px 1px 3px 1px rgba(60, 64, 67, 0.15);\n",
              "      fill: #174EA6;\n",
              "    }\n",
              "\n",
              "    [theme=dark] .colab-df-convert {\n",
              "      background-color: #3B4455;\n",
              "      fill: #D2E3FC;\n",
              "    }\n",
              "\n",
              "    [theme=dark] .colab-df-convert:hover {\n",
              "      background-color: #434B5C;\n",
              "      box-shadow: 0px 1px 3px 1px rgba(0, 0, 0, 0.15);\n",
              "      filter: drop-shadow(0px 1px 2px rgba(0, 0, 0, 0.3));\n",
              "      fill: #FFFFFF;\n",
              "    }\n",
              "  </style>\n",
              "\n",
              "      <script>\n",
              "        const buttonEl =\n",
              "          document.querySelector('#df-c2b59466-36e7-4717-9be2-9e16c3a8202b button.colab-df-convert');\n",
              "        buttonEl.style.display =\n",
              "          google.colab.kernel.accessAllowed ? 'block' : 'none';\n",
              "\n",
              "        async function convertToInteractive(key) {\n",
              "          const element = document.querySelector('#df-c2b59466-36e7-4717-9be2-9e16c3a8202b');\n",
              "          const dataTable =\n",
              "            await google.colab.kernel.invokeFunction('convertToInteractive',\n",
              "                                                     [key], {});\n",
              "          if (!dataTable) return;\n",
              "\n",
              "          const docLinkHtml = 'Like what you see? Visit the ' +\n",
              "            '<a target=\"_blank\" href=https://colab.research.google.com/notebooks/data_table.ipynb>data table notebook</a>'\n",
              "            + ' to learn more about interactive tables.';\n",
              "          element.innerHTML = '';\n",
              "          dataTable['output_type'] = 'display_data';\n",
              "          await google.colab.output.renderOutput(dataTable, element);\n",
              "          const docLink = document.createElement('div');\n",
              "          docLink.innerHTML = docLinkHtml;\n",
              "          element.appendChild(docLink);\n",
              "        }\n",
              "      </script>\n",
              "    </div>\n",
              "  </div>\n",
              "  "
            ]
          },
          "metadata": {},
          "execution_count": 3
        }
      ]
    },
    {
      "cell_type": "code",
      "source": [
        "df = df.drop(['Unnamed: 2', 'Unnamed: 3', 'Unnamed: 4'], axis=1)"
      ],
      "metadata": {
        "id": "Zsndbl73IpQg"
      },
      "execution_count": 4,
      "outputs": []
    },
    {
      "cell_type": "code",
      "source": [
        "P_ham = sum(df[\"v1\"] == \"ham\") / len(df[\"v1\"])\n",
        "Prior = {\"ham\" : P_ham, \"spam\" :  1 - P_ham}\n",
        "sns.countplot(x=df['v1'])\n",
        "Prior"
      ],
      "metadata": {
        "id": "9u34lQE7D_kK",
        "colab": {
          "base_uri": "https://localhost:8080/",
          "height": 298
        },
        "outputId": "5b9d451c-4819-4b12-e2ee-b766d0bf838d"
      },
      "execution_count": 5,
      "outputs": [
        {
          "output_type": "execute_result",
          "data": {
            "text/plain": [
              "{'ham': 0.8659368269921034, 'spam': 0.1340631730078966}"
            ]
          },
          "metadata": {},
          "execution_count": 5
        },
        {
          "output_type": "display_data",
          "data": {
            "text/plain": [
              "<Figure size 432x288 with 1 Axes>"
            ],
            "image/png": "[encoded data removed]"
          },
          "metadata": {
            "needs_background": "light"
          }
        }
      ]
    },
    {
      "cell_type": "code",
      "source": [
        "nltk.download('punkt')\n",
        "nltk.download('stopwords')\n",
        "nltk.download('wordnet')\n",
        "nltk.download('averaged_perceptron_tagger') \n",
        "\n",
        "def remove_stopwords(text):\n",
        "    en_stopwords = stopwords.words('english')\n",
        "    result = []\n",
        "    for token in text.split(' '):\n",
        "        if token.lower() not in en_stopwords:\n",
        "            result.append(token)\n",
        "    return ' '.join(result)\n",
        "\n",
        "def stemming(text, stemmer='porter'):\n",
        "    if (stemmer=='porter'): stemmer = PorterStemmer()\n",
        "    elif (stemmer=='snowball'): stemmer = SnowballStemmer(\"english\")   \n",
        "    else: \n",
        "        raise ValueError('stemmer should be porter or snowball')\n",
        "    result = []\n",
        "    for word in text.split(' '):\n",
        "        result.append(stemmer.stem(word.lower())) #lower\n",
        "    return ' '.join(result)\n",
        "\n",
        "def lemmatizing(text):\n",
        "    wordnet_lemmatizer = WordNetLemmatizer()\n",
        "    result = []\n",
        "    for token in text.split(' '):\n",
        "        if (not token): continue\n",
        "        word, tag = pos_tag([token.lower()])[0] #lower\n",
        "        pos = tag[0].lower()\n",
        "        if pos not in ['a', 'r', 'n', 'v']: pos='n'\n",
        "        result.append(wordnet_lemmatizer.lemmatize(word, pos)) \n",
        "    return ' '.join(result)"
      ],
      "metadata": {
        "id": "aMtJ-f09Bics",
        "colab": {
          "base_uri": "https://localhost:8080/"
        },
        "outputId": "415d7b03-2f46-4b98-88a8-16cbd62ebb61"
      },
      "execution_count": 6,
      "outputs": [
        {
          "output_type": "stream",
          "name": "stdout",
          "text": [
            "[nltk_data] Downloading package punkt to /root/nltk_data...\n",
            "[nltk_data]   Package punkt is already up-to-date!\n",
            "[nltk_data] Downloading package stopwords to /root/nltk_data...\n",
            "[nltk_data]   Package stopwords is already up-to-date!\n",
            "[nltk_data] Downloading package wordnet to /root/nltk_data...\n",
            "[nltk_data]   Package wordnet is already up-to-date!\n",
            "[nltk_data] Downloading package averaged_perceptron_tagger to\n",
            "[nltk_data]     /root/nltk_data...\n",
            "[nltk_data]   Package averaged_perceptron_tagger is already up-to-\n",
            "[nltk_data]       date!\n"
          ]
        }
      ]
    },
    {
      "cell_type": "code",
      "source": [
        "# df['v2'] = df['v2'].apply(lambda X: word_tokenize(X))\n",
        "# df['v2']=  df['v2'].apply(lambda X: remove_stopwords(X))\n",
        "df['v2'] = df['v2'].apply(lambda X: stemming(X))\n",
        "# df['v2'] = df['v2'].apply(lambda X: lemmatizing(X))"
      ],
      "metadata": {
        "id": "8vVT6C98-1Pv"
      },
      "execution_count": 7,
      "outputs": []
    },
    {
      "cell_type": "code",
      "source": [
        "df"
      ],
      "metadata": {
        "id": "HlEI6_KU3PaW",
        "colab": {
          "base_uri": "https://localhost:8080/",
          "height": 423
        },
        "outputId": "e22a31e8-47a0-48d7-ddba-820f62ca2157"
      },
      "execution_count": 8,
      "outputs": [
        {
          "output_type": "execute_result",
          "data": {
            "text/plain": [
              "        v1                                                 v2\n",
              "0      ham  go until jurong point, crazy.. avail onli in b...\n",
              "1      ham                        ok lar... joke wif u oni...\n",
              "2     spam  free entri in 2 a wkli comp to win fa cup fina...\n",
              "3      ham  u dun say so earli hor... u c alreadi then say...\n",
              "4      ham  nah i don't think he goe to usf, he live aroun...\n",
              "...    ...                                                ...\n",
              "5567  spam  thi is the 2nd time we have tri 2 contact u. u...\n",
              "5568   ham                  will ì_ b go to esplanad fr home?\n",
              "5569   ham  pity, * wa in mood for that. so...ani other su...\n",
              "5570   ham  the guy did some bitch but i act like i'd be i...\n",
              "5571   ham                           rofl. it true to it name\n",
              "\n",
              "[5572 rows x 2 columns]"
            ],
            "text/html": [
              "\n",
              "  <div id=\"df-a89afc0e-1595-491f-8df8-7acce9c34e0e\">\n",
              "    <div class=\"colab-df-container\">\n",
              "      <div>\n",
              "<style scoped>\n",
              "    .dataframe tbody tr th:only-of-type {\n",
              "        vertical-align: middle;\n",
              "    }\n",
              "\n",
              "    .dataframe tbody tr th {\n",
              "        vertical-align: top;\n",
              "    }\n",
              "\n",
              "    .dataframe thead th {\n",
              "        text-align: right;\n",
              "    }\n",
              "</style>\n",
              "<table border=\"1\" class=\"dataframe\">\n",
              "  <thead>\n",
              "    <tr style=\"text-align: right;\">\n",
              "      <th></th>\n",
              "      <th>v1</th>\n",
              "      <th>v2</th>\n",
              "    </tr>\n",
              "  </thead>\n",
              "  <tbody>\n",
              "    <tr>\n",
              "      <th>0</th>\n",
              "      <td>ham</td>\n",
              "      <td>go until jurong point, crazy.. avail onli in b...</td>\n",
              "    </tr>\n",
              "    <tr>\n",
              "      <th>1</th>\n",
              "      <td>ham</td>\n",
              "      <td>ok lar... joke wif u oni...</td>\n",
              "    </tr>\n",
              "    <tr>\n",
              "      <th>2</th>\n",
              "      <td>spam</td>\n",
              "      <td>free entri in 2 a wkli comp to win fa cup fina...</td>\n",
              "    </tr>\n",
              "    <tr>\n",
              "      <th>3</th>\n",
              "      <td>ham</td>\n",
              "      <td>u dun say so earli hor... u c alreadi then say...</td>\n",
              "    </tr>\n",
              "    <tr>\n",
              "      <th>4</th>\n",
              "      <td>ham</td>\n",
              "      <td>nah i don't think he goe to usf, he live aroun...</td>\n",
              "    </tr>\n",
              "    <tr>\n",
              "      <th>...</th>\n",
              "      <td>...</td>\n",
              "      <td>...</td>\n",
              "    </tr>\n",
              "    <tr>\n",
              "      <th>5567</th>\n",
              "      <td>spam</td>\n",
              "      <td>thi is the 2nd time we have tri 2 contact u. u...</td>\n",
              "    </tr>\n",
              "    <tr>\n",
              "      <th>5568</th>\n",
              "      <td>ham</td>\n",
              "      <td>will ì_ b go to esplanad fr home?</td>\n",
              "    </tr>\n",
              "    <tr>\n",
              "      <th>5569</th>\n",
              "      <td>ham</td>\n",
              "      <td>pity, * wa in mood for that. so...ani other su...</td>\n",
              "    </tr>\n",
              "    <tr>\n",
              "      <th>5570</th>\n",
              "      <td>ham</td>\n",
              "      <td>the guy did some bitch but i act like i'd be i...</td>\n",
              "    </tr>\n",
              "    <tr>\n",
              "      <th>5571</th>\n",
              "      <td>ham</td>\n",
              "      <td>rofl. it true to it name</td>\n",
              "    </tr>\n",
              "  </tbody>\n",
              "</table>\n",
              "<p>5572 rows × 2 columns</p>\n",
              "</div>\n",
              "      <button class=\"colab-df-convert\" onclick=\"convertToInteractive('df-a89afc0e-1595-491f-8df8-7acce9c34e0e')\"\n",
              "              title=\"Convert this dataframe to an interactive table.\"\n",
              "              style=\"display:none;\">\n",
              "        \n",
              "  <svg xmlns=\"http://www.w3.org/2000/svg\" height=\"24px\"viewBox=\"0 0 24 24\"\n",
              "       width=\"24px\">\n",
              "    <path d=\"M0 0h24v24H0V0z\" fill=\"none\"/>\n",
              "    <path d=\"M18.56 5.44l.94 2.06.94-2.06 2.06-.94-2.06-.94-.94-2.06-.94 2.06-2.06.94zm-11 1L8.5 8.5l.94-2.06 2.06-.94-2.06-.94L8.5 2.5l-.94 2.06-2.06.94zm10 10l.94 2.06.94-2.06 2.06-.94-2.06-.94-.94-2.06-.94 2.06-2.06.94z\"/><path d=\"M17.41 7.96l-1.37-1.37c-.4-.4-.92-.59-1.43-.59-.52 0-1.04.2-1.43.59L10.3 9.45l-7.72 7.72c-.78.78-.78 2.05 0 2.83L4 21.41c.39.39.9.59 1.41.59.51 0 1.02-.2 1.41-.59l7.78-7.78 2.81-2.81c.8-.78.8-2.07 0-2.86zM5.41 20L4 18.59l7.72-7.72 1.47 1.35L5.41 20z\"/>\n",
              "  </svg>\n",
              "      </button>\n",
              "      \n",
              "  <style>\n",
              "    .colab-df-container {\n",
              "      display:flex;\n",
              "      flex-wrap:wrap;\n",
              "      gap: 12px;\n",
              "    }\n",
              "\n",
              "    .colab-df-convert {\n",
              "      background-color: #E8F0FE;\n",
              "      border: none;\n",
              "      border-radius: 50%;\n",
              "      cursor: pointer;\n",
              "      display: none;\n",
              "      fill: #1967D2;\n",
              "      height: 32px;\n",
              "      padding: 0 0 0 0;\n",
              "      width: 32px;\n",
              "    }\n",
              "\n",
              "    .colab-df-convert:hover {\n",
              "      background-color: #E2EBFA;\n",
              "      box-shadow: 0px 1px 2px rgba(60, 64, 67, 0.3), 0px 1px 3px 1px rgba(60, 64, 67, 0.15);\n",
              "      fill: #174EA6;\n",
              "    }\n",
              "\n",
              "    [theme=dark] .colab-df-convert {\n",
              "      background-color: #3B4455;\n",
              "      fill: #D2E3FC;\n",
              "    }\n",
              "\n",
              "    [theme=dark] .colab-df-convert:hover {\n",
              "      background-color: #434B5C;\n",
              "      box-shadow: 0px 1px 3px 1px rgba(0, 0, 0, 0.15);\n",
              "      filter: drop-shadow(0px 1px 2px rgba(0, 0, 0, 0.3));\n",
              "      fill: #FFFFFF;\n",
              "    }\n",
              "  </style>\n",
              "\n",
              "      <script>\n",
              "        const buttonEl =\n",
              "          document.querySelector('#df-a89afc0e-1595-491f-8df8-7acce9c34e0e button.colab-df-convert');\n",
              "        buttonEl.style.display =\n",
              "          google.colab.kernel.accessAllowed ? 'block' : 'none';\n",
              "\n",
              "        async function convertToInteractive(key) {\n",
              "          const element = document.querySelector('#df-a89afc0e-1595-491f-8df8-7acce9c34e0e');\n",
              "          const dataTable =\n",
              "            await google.colab.kernel.invokeFunction('convertToInteractive',\n",
              "                                                     [key], {});\n",
              "          if (!dataTable) return;\n",
              "\n",
              "          const docLinkHtml = 'Like what you see? Visit the ' +\n",
              "            '<a target=\"_blank\" href=https://colab.research.google.com/notebooks/data_table.ipynb>data table notebook</a>'\n",
              "            + ' to learn more about interactive tables.';\n",
              "          element.innerHTML = '';\n",
              "          dataTable['output_type'] = 'display_data';\n",
              "          await google.colab.output.renderOutput(dataTable, element);\n",
              "          const docLink = document.createElement('div');\n",
              "          docLink.innerHTML = docLinkHtml;\n",
              "          element.appendChild(docLink);\n",
              "        }\n",
              "      </script>\n",
              "    </div>\n",
              "  </div>\n",
              "  "
            ]
          },
          "metadata": {},
          "execution_count": 8
        }
      ]
    },
    {
      "cell_type": "code",
      "source": [
        "X = df['v2']\n",
        "y = df['v1']\n",
        "X_train, X_test, y_train, y_test = train_test_split(X, y, test_size=0.2, random_state=810197502)"
      ],
      "metadata": {
        "id": "8wxPJaTvL8Ku"
      },
      "execution_count": 9,
      "outputs": []
    },
    {
      "cell_type": "code",
      "source": [
        "X_train.reset_index(drop=True, inplace=True)\n",
        "y_train.reset_index(drop=True, inplace=True)\n",
        "X_test.reset_index(drop=True, inplace=True)\n",
        "y_test.reset_index(drop=True, inplace=True)"
      ],
      "metadata": {
        "id": "3R977PNmd-Om"
      },
      "execution_count": 10,
      "outputs": []
    },
    {
      "cell_type": "code",
      "source": [
        "X_train_exclamation = list()\n",
        "X_train_uppercase = list()\n",
        "X_train_length = list()\n",
        "for x in X_train:\n",
        "    X_train_exclamation.append(x.count('!'))\n",
        "    X_train_uppercase.append(sum(1 for c in x if c.isupper()))\n",
        "    X_train_length.append(len(x))   \n",
        "mean_length = np.mean(X_train_length)\n",
        "for i in range(len(X_train_length)):\n",
        "    if(X_train_length[i] > mean_length):\n",
        "        X_train_length[i] = 1\n",
        "    else:\n",
        "        X_train_length[i] = 0\n",
        "\n",
        "X_test_exclamation = list()\n",
        "X_test_uppercase = list()\n",
        "X_test_length = list()\n",
        "for x in X_test:\n",
        "    X_test_exclamation.append(x.count('!'))\n",
        "    X_test_uppercase.append(sum(1 for c in x if c.isupper()))\n",
        "    X_test_length.append(len(x))\n",
        "mean_length = np.mean(X_test_length)\n",
        "for i in range(len(X_test_length)):\n",
        "    if(X_test_length[i] > mean_length):\n",
        "        X_test_length[i] = 1\n",
        "    else:\n",
        "        X_test_length[i] = 0"
      ],
      "metadata": {
        "id": "7HHyiRkSWjY4"
      },
      "execution_count": 11,
      "outputs": []
    },
    {
      "cell_type": "code",
      "source": [
        "vectorizer = CountVectorizer(lowercase=True, strip_accents='ascii', encoding='ISO-8859-1')\n",
        "X_train_vector = vectorizer.fit_transform(X_train)\n",
        "X_test_vector = vectorizer.transform(X_test)"
      ],
      "metadata": {
        "id": "JjVhdM6W170U"
      },
      "execution_count": 12,
      "outputs": []
    },
    {
      "cell_type": "code",
      "source": [
        "count_list = X_train_vector.toarray().sum(axis=0)\n",
        "word_list = vectorizer.get_feature_names_out()\n",
        "word_freq = pd.DataFrame(count_list, index=word_list, columns=['Frequency'])\n",
        "word_freq.sort_values(by='Frequency', ascending=False).head(15)"
      ],
      "metadata": {
        "id": "bFM8v7r_5f0l",
        "colab": {
          "base_uri": "https://localhost:8080/",
          "height": 520
        },
        "outputId": "7c8e3cc8-f4cc-4b73-d14e-37a790001ca5"
      },
      "execution_count": 13,
      "outputs": [
        {
          "output_type": "execute_result",
          "data": {
            "text/plain": [
              "      Frequency\n",
              "you        1811\n",
              "to         1783\n",
              "the        1085\n",
              "and         795\n",
              "it          794\n",
              "in          727\n",
              "is          712\n",
              "my          600\n",
              "me          597\n",
              "your        565\n",
              "for         555\n",
              "that        507\n",
              "call        501\n",
              "of          498\n",
              "have        493"
            ],
            "text/html": [
              "\n",
              "  <div id=\"df-4fecd965-51fd-44bc-a5ae-3b78fd55047b\">\n",
              "    <div class=\"colab-df-container\">\n",
              "      <div>\n",
              "<style scoped>\n",
              "    .dataframe tbody tr th:only-of-type {\n",
              "        vertical-align: middle;\n",
              "    }\n",
              "\n",
              "    .dataframe tbody tr th {\n",
              "        vertical-align: top;\n",
              "    }\n",
              "\n",
              "    .dataframe thead th {\n",
              "        text-align: right;\n",
              "    }\n",
              "</style>\n",
              "<table border=\"1\" class=\"dataframe\">\n",
              "  <thead>\n",
              "    <tr style=\"text-align: right;\">\n",
              "      <th></th>\n",
              "      <th>Frequency</th>\n",
              "    </tr>\n",
              "  </thead>\n",
              "  <tbody>\n",
              "    <tr>\n",
              "      <th>you</th>\n",
              "      <td>1811</td>\n",
              "    </tr>\n",
              "    <tr>\n",
              "      <th>to</th>\n",
              "      <td>1783</td>\n",
              "    </tr>\n",
              "    <tr>\n",
              "      <th>the</th>\n",
              "      <td>1085</td>\n",
              "    </tr>\n",
              "    <tr>\n",
              "      <th>and</th>\n",
              "      <td>795</td>\n",
              "    </tr>\n",
              "    <tr>\n",
              "      <th>it</th>\n",
              "      <td>794</td>\n",
              "    </tr>\n",
              "    <tr>\n",
              "      <th>in</th>\n",
              "      <td>727</td>\n",
              "    </tr>\n",
              "    <tr>\n",
              "      <th>is</th>\n",
              "      <td>712</td>\n",
              "    </tr>\n",
              "    <tr>\n",
              "      <th>my</th>\n",
              "      <td>600</td>\n",
              "    </tr>\n",
              "    <tr>\n",
              "      <th>me</th>\n",
              "      <td>597</td>\n",
              "    </tr>\n",
              "    <tr>\n",
              "      <th>your</th>\n",
              "      <td>565</td>\n",
              "    </tr>\n",
              "    <tr>\n",
              "      <th>for</th>\n",
              "      <td>555</td>\n",
              "    </tr>\n",
              "    <tr>\n",
              "      <th>that</th>\n",
              "      <td>507</td>\n",
              "    </tr>\n",
              "    <tr>\n",
              "      <th>call</th>\n",
              "      <td>501</td>\n",
              "    </tr>\n",
              "    <tr>\n",
              "      <th>of</th>\n",
              "      <td>498</td>\n",
              "    </tr>\n",
              "    <tr>\n",
              "      <th>have</th>\n",
              "      <td>493</td>\n",
              "    </tr>\n",
              "  </tbody>\n",
              "</table>\n",
              "</div>\n",
              "      <button class=\"colab-df-convert\" onclick=\"convertToInteractive('df-4fecd965-51fd-44bc-a5ae-3b78fd55047b')\"\n",
              "              title=\"Convert this dataframe to an interactive table.\"\n",
              "              style=\"display:none;\">\n",
              "        \n",
              "  <svg xmlns=\"http://www.w3.org/2000/svg\" height=\"24px\"viewBox=\"0 0 24 24\"\n",
              "       width=\"24px\">\n",
              "    <path d=\"M0 0h24v24H0V0z\" fill=\"none\"/>\n",
              "    <path d=\"M18.56 5.44l.94 2.06.94-2.06 2.06-.94-2.06-.94-.94-2.06-.94 2.06-2.06.94zm-11 1L8.5 8.5l.94-2.06 2.06-.94-2.06-.94L8.5 2.5l-.94 2.06-2.06.94zm10 10l.94 2.06.94-2.06 2.06-.94-2.06-.94-.94-2.06-.94 2.06-2.06.94z\"/><path d=\"M17.41 7.96l-1.37-1.37c-.4-.4-.92-.59-1.43-.59-.52 0-1.04.2-1.43.59L10.3 9.45l-7.72 7.72c-.78.78-.78 2.05 0 2.83L4 21.41c.39.39.9.59 1.41.59.51 0 1.02-.2 1.41-.59l7.78-7.78 2.81-2.81c.8-.78.8-2.07 0-2.86zM5.41 20L4 18.59l7.72-7.72 1.47 1.35L5.41 20z\"/>\n",
              "  </svg>\n",
              "      </button>\n",
              "      \n",
              "  <style>\n",
              "    .colab-df-container {\n",
              "      display:flex;\n",
              "      flex-wrap:wrap;\n",
              "      gap: 12px;\n",
              "    }\n",
              "\n",
              "    .colab-df-convert {\n",
              "      background-color: #E8F0FE;\n",
              "      border: none;\n",
              "      border-radius: 50%;\n",
              "      cursor: pointer;\n",
              "      display: none;\n",
              "      fill: #1967D2;\n",
              "      height: 32px;\n",
              "      padding: 0 0 0 0;\n",
              "      width: 32px;\n",
              "    }\n",
              "\n",
              "    .colab-df-convert:hover {\n",
              "      background-color: #E2EBFA;\n",
              "      box-shadow: 0px 1px 2px rgba(60, 64, 67, 0.3), 0px 1px 3px 1px rgba(60, 64, 67, 0.15);\n",
              "      fill: #174EA6;\n",
              "    }\n",
              "\n",
              "    [theme=dark] .colab-df-convert {\n",
              "      background-color: #3B4455;\n",
              "      fill: #D2E3FC;\n",
              "    }\n",
              "\n",
              "    [theme=dark] .colab-df-convert:hover {\n",
              "      background-color: #434B5C;\n",
              "      box-shadow: 0px 1px 3px 1px rgba(0, 0, 0, 0.15);\n",
              "      filter: drop-shadow(0px 1px 2px rgba(0, 0, 0, 0.3));\n",
              "      fill: #FFFFFF;\n",
              "    }\n",
              "  </style>\n",
              "\n",
              "      <script>\n",
              "        const buttonEl =\n",
              "          document.querySelector('#df-4fecd965-51fd-44bc-a5ae-3b78fd55047b button.colab-df-convert');\n",
              "        buttonEl.style.display =\n",
              "          google.colab.kernel.accessAllowed ? 'block' : 'none';\n",
              "\n",
              "        async function convertToInteractive(key) {\n",
              "          const element = document.querySelector('#df-4fecd965-51fd-44bc-a5ae-3b78fd55047b');\n",
              "          const dataTable =\n",
              "            await google.colab.kernel.invokeFunction('convertToInteractive',\n",
              "                                                     [key], {});\n",
              "          if (!dataTable) return;\n",
              "\n",
              "          const docLinkHtml = 'Like what you see? Visit the ' +\n",
              "            '<a target=\"_blank\" href=https://colab.research.google.com/notebooks/data_table.ipynb>data table notebook</a>'\n",
              "            + ' to learn more about interactive tables.';\n",
              "          element.innerHTML = '';\n",
              "          dataTable['output_type'] = 'display_data';\n",
              "          await google.colab.output.renderOutput(dataTable, element);\n",
              "          const docLink = document.createElement('div');\n",
              "          docLink.innerHTML = docLinkHtml;\n",
              "          element.appendChild(docLink);\n",
              "        }\n",
              "      </script>\n",
              "    </div>\n",
              "  </div>\n",
              "  "
            ]
          },
          "metadata": {},
          "execution_count": 13
        }
      ]
    },
    {
      "cell_type": "code",
      "source": [
        "X_train_vector = hstack((X_train_vector, np.array([X_train_exclamation, X_train_uppercase, X_train_length]).T))\n",
        "X_test_vector = hstack((X_test_vector, np.array([X_test_exclamation, X_test_uppercase, X_test_length], dtype=float).T))"
      ],
      "metadata": {
        "id": "icvv63JYUREe"
      },
      "execution_count": 14,
      "outputs": []
    },
    {
      "cell_type": "code",
      "source": [
        "accuracy = list()\n",
        "precision = list()\n",
        "recall = list()\n",
        "f1 = list()\n",
        "for a in range(5):\n",
        "    clf = MultinomialNB(alpha=a)\n",
        "    clf.fit(X_train_vector, y_train)\n",
        "    result = precision_recall_fscore_support(y_test, clf.predict(X_test_vector), average='binary', pos_label='ham')\n",
        "    accuracy.append(100 * metrics.accuracy_score(y_test, clf.predict(X_test_vector)))\n",
        "    precision.append(100 * result[0])\n",
        "    recall.append(100 * result[1])\n",
        "    f1.append(100 * result[2])"
      ],
      "metadata": {
        "id": "-0SQ4yCyNw3q",
        "colab": {
          "base_uri": "https://localhost:8080/"
        },
        "outputId": "02ead563-b05e-4529-fb30-35949f7c9fbc"
      },
      "execution_count": 15,
      "outputs": [
        {
          "output_type": "stream",
          "name": "stderr",
          "text": [
            "/usr/local/lib/python3.7/dist-packages/sklearn/naive_bayes.py:557: UserWarning: alpha too small will result in numeric errors, setting alpha = 1.0e-10\n",
            "  % _ALPHA_MIN\n"
          ]
        }
      ]
    },
    {
      "cell_type": "code",
      "source": [
        "plt.figure(figsize = (9, 7))\n",
        "plt.plot(np.arange(0, 5, 1), accuracy, label = 'Accuracy')\n",
        "plt.plot(np.arange(0, 5, 1), f1, label = 'F1')\n",
        "plt.plot(np.arange(0, 5, 1), precision, label = 'Precision')\n",
        "plt.plot(np.arange(0, 5, 1), recall, label = 'Recall')\n",
        "plt.xlabel('Alpha')\n",
        "plt.ylabel('Percent')\n",
        "plt.legend()\n",
        "plt.show()"
      ],
      "metadata": {
        "id": "5WS9YZgtPInb",
        "colab": {
          "base_uri": "https://localhost:8080/",
          "height": 442
        },
        "outputId": "20c0f97f-fe96-4536-8a59-66b0ee9dea6c"
      },
      "execution_count": 16,
      "outputs": [
        {
          "output_type": "display_data",
          "data": {
            "text/plain": [
              "<Figure size 648x504 with 1 Axes>"
            ],
            "image/png": "[encoded data removed]"
          },
          "metadata": {
            "needs_background": "light"
          }
        }
      ]
    },
    {
      "cell_type": "code",
      "source": [
        "clf = MultinomialNB(alpha=1)\n",
        "clf.fit(X_train_vector, y_train)\n",
        "print(classification_report(y_test, clf.predict(X_test_vector), digits=4))"
      ],
      "metadata": {
        "id": "4Oil-Y_4LKXG",
        "colab": {
          "base_uri": "https://localhost:8080/"
        },
        "outputId": "9b6ec4c2-0701-48ab-a591-cbfe1e1c5777"
      },
      "execution_count": 17,
      "outputs": [
        {
          "output_type": "stream",
          "name": "stdout",
          "text": [
            "              precision    recall  f1-score   support\n",
            "\n",
            "         ham     0.9847    0.9979    0.9913       965\n",
            "        spam     0.9854    0.9000    0.9408       150\n",
            "\n",
            "    accuracy                         0.9848      1115\n",
            "   macro avg     0.9850    0.9490    0.9660      1115\n",
            "weighted avg     0.9848    0.9848    0.9845      1115\n",
            "\n"
          ]
        }
      ]
    },
    {
      "cell_type": "code",
      "source": [
        "ConfusionMatrixDisplay.from_predictions(y_test, clf.predict(X_test_vector), labels=['ham', 'spam'])"
      ],
      "metadata": {
        "id": "FvYO3vd4iLuk",
        "colab": {
          "base_uri": "https://localhost:8080/",
          "height": 296
        },
        "outputId": "13502d4a-8452-4390-e09e-109075f66dcb"
      },
      "execution_count": 18,
      "outputs": [
        {
          "output_type": "execute_result",
          "data": {
            "text/plain": [
              "<sklearn.metrics._plot.confusion_matrix.ConfusionMatrixDisplay at 0x7fa54bb08850>"
            ]
          },
          "metadata": {},
          "execution_count": 18
        },
        {
          "output_type": "display_data",
          "data": {
            "text/plain": [
              "<Figure size 432x288 with 2 Axes>"
            ],
            "image/png": "[encoded data removed]"
          },
          "metadata": {
            "needs_background": "light"
          }
        }
      ]
    },
    {
      "cell_type": "code",
      "source": [
        "i = 1\n",
        "for x in X_test[(clf.predict(X_test_vector)=='ham') & (y_test=='spam')]:\n",
        "    print(i, ':', x)\n",
        "    i += 1"
      ],
      "metadata": {
        "id": "NY8uFaOcwpIY",
        "colab": {
          "base_uri": "https://localhost:8080/"
        },
        "outputId": "3b985d9c-59dd-4880-e795-d31fdcbc877a"
      },
      "execution_count": 19,
      "outputs": [
        {
          "output_type": "stream",
          "name": "stdout",
          "text": [
            "1 : block breaker now come in delux format with new featur and great graphic from t-mobile. buy for just å£5 by repli get bbdelux and take the challeng\n",
            "2 : hi babe it jordan, how r u? im home from abroad and lonely, text me back if u wanna chat xxsp visionsms.com text stop to stopcost 150p 08712400603\n",
            "3 : ringtonek 84484\n",
            "4 : dating:i have had two of these. onli start after i sent a text to talk sport radio last week. ani connect do you think or coincidence?\n",
            "5 : you'll not rcv ani more msg from the chat svc. for free hardcor servic text go to: 69988 if u get noth u must age verifi with yr network & tri again\n",
            "6 : more peopl are dog in your area now. call 09090204448 and join like mind guys. whi not arrang 1 yourself. there' 1 thi evening. aå£1.50 minapn ls278bb\n",
            "7 : hi thi is amy, we will be send you a free phone number in a coupl of days, which will give you an access to all the adult parties...\n",
            "8 : hi if ur lookin 4 sauci daytim fun wiv busti marri woman am free all next week chat now 2 sort time 09099726429 janinexx callså£1/minmobsmorelkpobox177hp51fl\n",
            "9 : for sale - arsen dartboard. good condit but no doubl or trebles!\n",
            "10 : freemsg hey there darl it' been 3 week' now and no word back! i'd like some fun you up for it still? tb ok! xxx std chg to send, å£1.50 to rcv\n",
            "11 : miss call alert. these number call but left no message. 07008009200\n",
            "12 : ever thought about live a good life with a perfect partner? just txt back name and age to join the mobil community. (100p/sms)\n",
            "13 : in the simpson movi releas in juli 2007 name the band that die at the start of the film? a-green day, b-blue day, c-red day. (send a, b or c)\n",
            "14 : life ha never been thi much fun and great until you came in. you made it truli special for me. i won't forget you! enjoy @ one gbp/sm\n",
            "15 : you have 1 new message. pleas call 08718738034.\n"
          ]
        }
      ]
    },
    {
      "cell_type": "code",
      "source": [
        "i = 1\n",
        "for x in X_test[(clf.predict(X_test_vector)=='spam') & (y_test=='ham')]:\n",
        "    print(i, ':', x)\n",
        "    i += 1"
      ],
      "metadata": {
        "id": "9ya8FONGySc8",
        "colab": {
          "base_uri": "https://localhost:8080/"
        },
        "outputId": "8a57c27b-7456-479a-e881-892d1b8bdf94"
      },
      "execution_count": 20,
      "outputs": [
        {
          "output_type": "stream",
          "name": "stdout",
          "text": [
            "1 : u will switch your fone on dammit!!\n",
            "2 : gettin rdi to ship comp\n"
          ]
        }
      ]
    },
    {
      "cell_type": "markdown",
      "source": [
        "# **Sentimental LIAR**"
      ],
      "metadata": {
        "id": "1bsPmb84w8eO"
      }
    },
    {
      "cell_type": "code",
      "source": [
        "# !unzip test_final.zip"
      ],
      "metadata": {
        "id": "AxyjZ7gh8bdn"
      },
      "execution_count": 21,
      "outputs": []
    },
    {
      "cell_type": "code",
      "source": [
        "df_train = pd.read_csv('train_final.csv')"
      ],
      "metadata": {
        "id": "p6TWn21r8yZo"
      },
      "execution_count": 22,
      "outputs": []
    },
    {
      "cell_type": "code",
      "source": [
        "for x in [\"anger\", \"fear\", \"joy\", \"disgust\", \"sad\"]:\n",
        "    sns.displot(df_train, x=x, kind=\"kde\")"
      ],
      "metadata": {
        "colab": {
          "base_uri": "https://localhost:8080/",
          "height": 1000
        },
        "id": "kPHIZKA98WMB",
        "outputId": "df072594-2ce1-4134-acae-eb30f574f740"
      },
      "execution_count": 23,
      "outputs": [
        {
          "output_type": "display_data",
          "data": {
            "text/plain": [
              "<Figure size 360x360 with 1 Axes>"
            ],
            "image/png": "[encoded data removed]"
          },
          "metadata": {
            "needs_background": "light"
          }
        },
        {
          "output_type": "display_data",
          "data": {
            "text/plain": [
              "<Figure size 360x360 with 1 Axes>"
            ],
            "image/png": "[encoded data removed]"
          },
          "metadata": {
            "needs_background": "light"
          }
        },
        {
          "output_type": "display_data",
          "data": {
            "text/plain": [
              "<Figure size 360x360 with 1 Axes>"
            ],
            "image/png": "[encoded data removed]"
          },
          "metadata": {
            "needs_background": "light"
          }
        },
        {
          "output_type": "display_data",
          "data": {
            "text/plain": [
              "<Figure size 360x360 with 1 Axes>"
            ],
            "image/png": "[encoded data removed]"
          },
          "metadata": {
            "needs_background": "light"
          }
        },
        {
          "output_type": "display_data",
          "data": {
            "text/plain": [
              "<Figure size 360x360 with 1 Axes>"
            ],
            "image/png": "[encoded data removed]"
          },
          "metadata": {
            "needs_background": "light"
          }
        }
      ]
    },
    {
      "cell_type": "code",
      "source": [
        "def preprocess_df(df, drop_list, threshold=0.375):\n",
        "    df = df.drop(drop_list, axis=1)\n",
        "    \n",
        "    for i in range(len(df)):\n",
        "        current_label = df.loc[i, 'label']\n",
        "        if (current_label == 'barely-true' or current_label == 'pants-fire'):\n",
        "            df.loc[i, 'label'] = 'false'\n",
        "        elif (current_label == 'mostly-true' or current_label == 'half-true'):\n",
        "            df.loc[i, 'label'] = 'true'\n",
        "        \n",
        "        current_sentiment = df.loc[i, 'sentiment']\n",
        "        if (current_sentiment == 'POSITIVE'):\n",
        "            df.loc[i, 'sentiment'] = 1\n",
        "        else:\n",
        "            df.loc[i, 'sentiment'] = 0\n",
        "        \n",
        "        if(df.loc[i, 'anger'] > threshold):\n",
        "            df.loc[i, 'anger'] = 1\n",
        "        else:\n",
        "            df.loc[i, 'anger'] = 0\n",
        "\n",
        "        if(df.loc[i, 'fear'] > threshold):\n",
        "            df.loc[i, 'fear'] = 1\n",
        "        else:\n",
        "            df.loc[i, 'fear'] = 0   \n",
        "\n",
        "        if(df.loc[i, 'joy'] > threshold):\n",
        "            df.loc[i, 'joy'] = 1\n",
        "        else:\n",
        "            df.loc[i, 'joy'] = 0\n",
        "        \n",
        "        \n",
        "        if(df.loc[i, 'disgust'] > threshold):\n",
        "            df.loc[i, 'disgust'] = 1\n",
        "        else:\n",
        "            df.loc[i, 'disgust'] = 0\n",
        "        \n",
        "        if(df.loc[i, 'sad'] > threshold):\n",
        "            df.loc[i, 'sad'] = 1\n",
        "        else:\n",
        "            df.loc[i, 'sad'] = 0\n",
        "    \n",
        "    return df"
      ],
      "metadata": {
        "id": "VQlOBFTk9WX5"
      },
      "execution_count": 24,
      "outputs": []
    },
    {
      "cell_type": "code",
      "source": [
        "drop_list = ['Unnamed: 0', 'Unnamed: 0.1', 'Unnamed: 0.1.1', 'Unnamed: 0.1.1.1',\n",
        "             'Unnamed: 0.1.1.1.1', 'Unnamed: 0.1.1.1.1.1', 'ID', 'subject', \n",
        "             'speaker', 'speaker_job', 'state_info', 'party_affiliation',\n",
        "             'barely_true_counts', 'false_counts', 'half_true_counts', \n",
        "             'mostly_true_counts', 'pants_on_fire_counts', 'context',\n",
        "             'sentiment_score', 'sentiment_magnitude', 'speaker_id', 'list', \n",
        "             'sentiment_code', ]\n",
        "df_train = preprocess_df(df_train, drop_list,)"
      ],
      "metadata": {
        "id": "uho-sgj78HX4"
      },
      "execution_count": 25,
      "outputs": []
    },
    {
      "cell_type": "code",
      "source": [
        "# print(len(df_train))\n",
        "# df_train = df_train.dropna()\n",
        "# print(len(df_train))"
      ],
      "metadata": {
        "id": "wKKTJqi-SHEL"
      },
      "execution_count": 26,
      "outputs": []
    },
    {
      "cell_type": "code",
      "source": [
        "df_train.isna().values.any()"
      ],
      "metadata": {
        "id": "Yyh8etjcDTBJ",
        "colab": {
          "base_uri": "https://localhost:8080/"
        },
        "outputId": "b7fe6ba0-d1c1-4c78-ff6f-18fd8b06f33b"
      },
      "execution_count": 27,
      "outputs": [
        {
          "output_type": "execute_result",
          "data": {
            "text/plain": [
              "False"
            ]
          },
          "metadata": {},
          "execution_count": 27
        }
      ]
    },
    {
      "cell_type": "code",
      "source": [
        "# df_train['statement'] = df_train['statement'].apply(lambda X: word_tokenize(X))\n",
        "# df_train['statement'] = df_train['statement'].apply(lambda X: remove_stopwords(X))\n",
        "df_train['statement'] = df_train['statement'].apply(lambda X: stemming(X,))\n",
        "# df_train['statement'] = df_train['statement'].apply(lambda X: lemmatizing(X))"
      ],
      "metadata": {
        "id": "X9_nNIjEGLFW"
      },
      "execution_count": 28,
      "outputs": []
    },
    {
      "cell_type": "code",
      "source": [
        "df_train"
      ],
      "metadata": {
        "id": "BgPlE2KaHD2n",
        "colab": {
          "base_uri": "https://localhost:8080/",
          "height": 423
        },
        "outputId": "6d453018-f315-4700-b176-f09d153e8a76"
      },
      "execution_count": 29,
      "outputs": [
        {
          "output_type": "execute_result",
          "data": {
            "text/plain": [
              "       label                                          statement sentiment  \\\n",
              "0      false  say the anni list polit group support third-tr...         0   \n",
              "1       true  when did the declin of coal start? it start wh...         0   \n",
              "2       true  hillari clinton agre with john mccain \"bi vote...         0   \n",
              "3      false  health care reform legisl is like to mandat fr...         0   \n",
              "4       true  the econom turnaround start at the end of my t...         0   \n",
              "...      ...                                                ...       ...   \n",
              "10231   true  there are a larger number of shark attack in f...         0   \n",
              "10232   true  democrat have now becom the parti of the [atla...         0   \n",
              "10233   true  say an altern to social secur that oper in gal...         0   \n",
              "10234  false  on lift the u.s. cuban embargo and allow trave...         0   \n",
              "10235  false  the depart of veteran affair ha a manual out t...         0   \n",
              "\n",
              "       anger  fear  joy  disgust  sad  \n",
              "0        0.0   0.0  0.0      0.0  1.0  \n",
              "1        0.0   0.0  0.0      0.0  0.0  \n",
              "2        0.0   0.0  1.0      1.0  0.0  \n",
              "3        0.0   0.0  1.0      0.0  1.0  \n",
              "4        0.0   0.0  0.0      0.0  0.0  \n",
              "...      ...   ...  ...      ...  ...  \n",
              "10231    0.0   0.0  0.0      0.0  0.0  \n",
              "10232    0.0   0.0  0.0      0.0  1.0  \n",
              "10233    0.0   0.0  0.0      0.0  0.0  \n",
              "10234    0.0   0.0  0.0      0.0  0.0  \n",
              "10235    0.0   0.0  0.0      0.0  1.0  \n",
              "\n",
              "[10236 rows x 8 columns]"
            ],
            "text/html": [
              "\n",
              "  <div id=\"df-2338d920-54cc-4de1-bdb3-3624c9304d39\">\n",
              "    <div class=\"colab-df-container\">\n",
              "      <div>\n",
              "<style scoped>\n",
              "    .dataframe tbody tr th:only-of-type {\n",
              "        vertical-align: middle;\n",
              "    }\n",
              "\n",
              "    .dataframe tbody tr th {\n",
              "        vertical-align: top;\n",
              "    }\n",
              "\n",
              "    .dataframe thead th {\n",
              "        text-align: right;\n",
              "    }\n",
              "</style>\n",
              "<table border=\"1\" class=\"dataframe\">\n",
              "  <thead>\n",
              "    <tr style=\"text-align: right;\">\n",
              "      <th></th>\n",
              "      <th>label</th>\n",
              "      <th>statement</th>\n",
              "      <th>sentiment</th>\n",
              "      <th>anger</th>\n",
              "      <th>fear</th>\n",
              "      <th>joy</th>\n",
              "      <th>disgust</th>\n",
              "      <th>sad</th>\n",
              "    </tr>\n",
              "  </thead>\n",
              "  <tbody>\n",
              "    <tr>\n",
              "      <th>0</th>\n",
              "      <td>false</td>\n",
              "      <td>say the anni list polit group support third-tr...</td>\n",
              "      <td>0</td>\n",
              "      <td>0.0</td>\n",
              "      <td>0.0</td>\n",
              "      <td>0.0</td>\n",
              "      <td>0.0</td>\n",
              "      <td>1.0</td>\n",
              "    </tr>\n",
              "    <tr>\n",
              "      <th>1</th>\n",
              "      <td>true</td>\n",
              "      <td>when did the declin of coal start? it start wh...</td>\n",
              "      <td>0</td>\n",
              "      <td>0.0</td>\n",
              "      <td>0.0</td>\n",
              "      <td>0.0</td>\n",
              "      <td>0.0</td>\n",
              "      <td>0.0</td>\n",
              "    </tr>\n",
              "    <tr>\n",
              "      <th>2</th>\n",
              "      <td>true</td>\n",
              "      <td>hillari clinton agre with john mccain \"bi vote...</td>\n",
              "      <td>0</td>\n",
              "      <td>0.0</td>\n",
              "      <td>0.0</td>\n",
              "      <td>1.0</td>\n",
              "      <td>1.0</td>\n",
              "      <td>0.0</td>\n",
              "    </tr>\n",
              "    <tr>\n",
              "      <th>3</th>\n",
              "      <td>false</td>\n",
              "      <td>health care reform legisl is like to mandat fr...</td>\n",
              "      <td>0</td>\n",
              "      <td>0.0</td>\n",
              "      <td>0.0</td>\n",
              "      <td>1.0</td>\n",
              "      <td>0.0</td>\n",
              "      <td>1.0</td>\n",
              "    </tr>\n",
              "    <tr>\n",
              "      <th>4</th>\n",
              "      <td>true</td>\n",
              "      <td>the econom turnaround start at the end of my t...</td>\n",
              "      <td>0</td>\n",
              "      <td>0.0</td>\n",
              "      <td>0.0</td>\n",
              "      <td>0.0</td>\n",
              "      <td>0.0</td>\n",
              "      <td>0.0</td>\n",
              "    </tr>\n",
              "    <tr>\n",
              "      <th>...</th>\n",
              "      <td>...</td>\n",
              "      <td>...</td>\n",
              "      <td>...</td>\n",
              "      <td>...</td>\n",
              "      <td>...</td>\n",
              "      <td>...</td>\n",
              "      <td>...</td>\n",
              "      <td>...</td>\n",
              "    </tr>\n",
              "    <tr>\n",
              "      <th>10231</th>\n",
              "      <td>true</td>\n",
              "      <td>there are a larger number of shark attack in f...</td>\n",
              "      <td>0</td>\n",
              "      <td>0.0</td>\n",
              "      <td>0.0</td>\n",
              "      <td>0.0</td>\n",
              "      <td>0.0</td>\n",
              "      <td>0.0</td>\n",
              "    </tr>\n",
              "    <tr>\n",
              "      <th>10232</th>\n",
              "      <td>true</td>\n",
              "      <td>democrat have now becom the parti of the [atla...</td>\n",
              "      <td>0</td>\n",
              "      <td>0.0</td>\n",
              "      <td>0.0</td>\n",
              "      <td>0.0</td>\n",
              "      <td>0.0</td>\n",
              "      <td>1.0</td>\n",
              "    </tr>\n",
              "    <tr>\n",
              "      <th>10233</th>\n",
              "      <td>true</td>\n",
              "      <td>say an altern to social secur that oper in gal...</td>\n",
              "      <td>0</td>\n",
              "      <td>0.0</td>\n",
              "      <td>0.0</td>\n",
              "      <td>0.0</td>\n",
              "      <td>0.0</td>\n",
              "      <td>0.0</td>\n",
              "    </tr>\n",
              "    <tr>\n",
              "      <th>10234</th>\n",
              "      <td>false</td>\n",
              "      <td>on lift the u.s. cuban embargo and allow trave...</td>\n",
              "      <td>0</td>\n",
              "      <td>0.0</td>\n",
              "      <td>0.0</td>\n",
              "      <td>0.0</td>\n",
              "      <td>0.0</td>\n",
              "      <td>0.0</td>\n",
              "    </tr>\n",
              "    <tr>\n",
              "      <th>10235</th>\n",
              "      <td>false</td>\n",
              "      <td>the depart of veteran affair ha a manual out t...</td>\n",
              "      <td>0</td>\n",
              "      <td>0.0</td>\n",
              "      <td>0.0</td>\n",
              "      <td>0.0</td>\n",
              "      <td>0.0</td>\n",
              "      <td>1.0</td>\n",
              "    </tr>\n",
              "  </tbody>\n",
              "</table>\n",
              "<p>10236 rows × 8 columns</p>\n",
              "</div>\n",
              "      <button class=\"colab-df-convert\" onclick=\"convertToInteractive('df-2338d920-54cc-4de1-bdb3-3624c9304d39')\"\n",
              "              title=\"Convert this dataframe to an interactive table.\"\n",
              "              style=\"display:none;\">\n",
              "        \n",
              "  <svg xmlns=\"http://www.w3.org/2000/svg\" height=\"24px\"viewBox=\"0 0 24 24\"\n",
              "       width=\"24px\">\n",
              "    <path d=\"M0 0h24v24H0V0z\" fill=\"none\"/>\n",
              "    <path d=\"M18.56 5.44l.94 2.06.94-2.06 2.06-.94-2.06-.94-.94-2.06-.94 2.06-2.06.94zm-11 1L8.5 8.5l.94-2.06 2.06-.94-2.06-.94L8.5 2.5l-.94 2.06-2.06.94zm10 10l.94 2.06.94-2.06 2.06-.94-2.06-.94-.94-2.06-.94 2.06-2.06.94z\"/><path d=\"M17.41 7.96l-1.37-1.37c-.4-.4-.92-.59-1.43-.59-.52 0-1.04.2-1.43.59L10.3 9.45l-7.72 7.72c-.78.78-.78 2.05 0 2.83L4 21.41c.39.39.9.59 1.41.59.51 0 1.02-.2 1.41-.59l7.78-7.78 2.81-2.81c.8-.78.8-2.07 0-2.86zM5.41 20L4 18.59l7.72-7.72 1.47 1.35L5.41 20z\"/>\n",
              "  </svg>\n",
              "      </button>\n",
              "      \n",
              "  <style>\n",
              "    .colab-df-container {\n",
              "      display:flex;\n",
              "      flex-wrap:wrap;\n",
              "      gap: 12px;\n",
              "    }\n",
              "\n",
              "    .colab-df-convert {\n",
              "      background-color: #E8F0FE;\n",
              "      border: none;\n",
              "      border-radius: 50%;\n",
              "      cursor: pointer;\n",
              "      display: none;\n",
              "      fill: #1967D2;\n",
              "      height: 32px;\n",
              "      padding: 0 0 0 0;\n",
              "      width: 32px;\n",
              "    }\n",
              "\n",
              "    .colab-df-convert:hover {\n",
              "      background-color: #E2EBFA;\n",
              "      box-shadow: 0px 1px 2px rgba(60, 64, 67, 0.3), 0px 1px 3px 1px rgba(60, 64, 67, 0.15);\n",
              "      fill: #174EA6;\n",
              "    }\n",
              "\n",
              "    [theme=dark] .colab-df-convert {\n",
              "      background-color: #3B4455;\n",
              "      fill: #D2E3FC;\n",
              "    }\n",
              "\n",
              "    [theme=dark] .colab-df-convert:hover {\n",
              "      background-color: #434B5C;\n",
              "      box-shadow: 0px 1px 3px 1px rgba(0, 0, 0, 0.15);\n",
              "      filter: drop-shadow(0px 1px 2px rgba(0, 0, 0, 0.3));\n",
              "      fill: #FFFFFF;\n",
              "    }\n",
              "  </style>\n",
              "\n",
              "      <script>\n",
              "        const buttonEl =\n",
              "          document.querySelector('#df-2338d920-54cc-4de1-bdb3-3624c9304d39 button.colab-df-convert');\n",
              "        buttonEl.style.display =\n",
              "          google.colab.kernel.accessAllowed ? 'block' : 'none';\n",
              "\n",
              "        async function convertToInteractive(key) {\n",
              "          const element = document.querySelector('#df-2338d920-54cc-4de1-bdb3-3624c9304d39');\n",
              "          const dataTable =\n",
              "            await google.colab.kernel.invokeFunction('convertToInteractive',\n",
              "                                                     [key], {});\n",
              "          if (!dataTable) return;\n",
              "\n",
              "          const docLinkHtml = 'Like what you see? Visit the ' +\n",
              "            '<a target=\"_blank\" href=https://colab.research.google.com/notebooks/data_table.ipynb>data table notebook</a>'\n",
              "            + ' to learn more about interactive tables.';\n",
              "          element.innerHTML = '';\n",
              "          dataTable['output_type'] = 'display_data';\n",
              "          await google.colab.output.renderOutput(dataTable, element);\n",
              "          const docLink = document.createElement('div');\n",
              "          docLink.innerHTML = docLinkHtml;\n",
              "          element.appendChild(docLink);\n",
              "        }\n",
              "      </script>\n",
              "    </div>\n",
              "  </div>\n",
              "  "
            ]
          },
          "metadata": {},
          "execution_count": 29
        }
      ]
    },
    {
      "cell_type": "code",
      "source": [
        "P_true = sum(df_train[\"label\"] == \"true\") / len(df_train[\"label\"])\n",
        "Prior = {\"true\" : P_true, \"false\" :  1 - P_true}\n",
        "sns.countplot(x=df_train['label'])\n",
        "Prior"
      ],
      "metadata": {
        "id": "dTAa3yNpNNh-",
        "colab": {
          "base_uri": "https://localhost:8080/",
          "height": 299
        },
        "outputId": "e9fc5f1e-c5d7-466d-a621-32274b978ff9"
      },
      "execution_count": 30,
      "outputs": [
        {
          "output_type": "execute_result",
          "data": {
            "text/plain": [
              "{'false': 0.4381594372801876, 'true': 0.5618405627198124}"
            ]
          },
          "metadata": {},
          "execution_count": 30
        },
        {
          "output_type": "display_data",
          "data": {
            "text/plain": [
              "<Figure size 432x288 with 1 Axes>"
            ],
            "image/png": "[encoded data removed]"
          },
          "metadata": {
            "needs_background": "light"
          }
        }
      ]
    },
    {
      "cell_type": "code",
      "source": [
        "vectorizer = CountVectorizer(lowercase=True,)\n",
        "tfidf = TfidfTransformer(sublinear_tf=True)\n",
        "X_train = df_train['statement']\n",
        "X_train_vector = vectorizer.fit_transform(X_train)\n",
        "y_train = df_train['label']"
      ],
      "metadata": {
        "id": "4wAPZ_ySGV_P"
      },
      "execution_count": 31,
      "outputs": []
    },
    {
      "cell_type": "code",
      "source": [
        "count_list = X_train_vector.toarray().sum(axis=0)\n",
        "word_list = vectorizer.get_feature_names_out()\n",
        "word_freq = pd.DataFrame(count_list, index=word_list, columns=['Frequency'])\n",
        "word_freq.sort_values(by='Frequency', ascending=False).head(15)"
      ],
      "metadata": {
        "id": "Vf4zQTwKEUcN",
        "colab": {
          "base_uri": "https://localhost:8080/",
          "height": 520
        },
        "outputId": "8c5aa40b-b2ff-4585-aac8-6c96d3339798"
      },
      "execution_count": 32,
      "outputs": [
        {
          "output_type": "execute_result",
          "data": {
            "text/plain": [
              "         Frequency\n",
              "the           9777\n",
              "in            5146\n",
              "of            4827\n",
              "to            4501\n",
              "and           2851\n",
              "say           2488\n",
              "for           2126\n",
              "that          1963\n",
              "is            1787\n",
              "on            1523\n",
              "have          1314\n",
              "ha            1290\n",
              "state         1240\n",
              "percent       1190\n",
              "are           1134"
            ],
            "text/html": [
              "\n",
              "  <div id=\"df-330e6a42-ec3e-42a1-9cf9-af61c40dea9a\">\n",
              "    <div class=\"colab-df-container\">\n",
              "      <div>\n",
              "<style scoped>\n",
              "    .dataframe tbody tr th:only-of-type {\n",
              "        vertical-align: middle;\n",
              "    }\n",
              "\n",
              "    .dataframe tbody tr th {\n",
              "        vertical-align: top;\n",
              "    }\n",
              "\n",
              "    .dataframe thead th {\n",
              "        text-align: right;\n",
              "    }\n",
              "</style>\n",
              "<table border=\"1\" class=\"dataframe\">\n",
              "  <thead>\n",
              "    <tr style=\"text-align: right;\">\n",
              "      <th></th>\n",
              "      <th>Frequency</th>\n",
              "    </tr>\n",
              "  </thead>\n",
              "  <tbody>\n",
              "    <tr>\n",
              "      <th>the</th>\n",
              "      <td>9777</td>\n",
              "    </tr>\n",
              "    <tr>\n",
              "      <th>in</th>\n",
              "      <td>5146</td>\n",
              "    </tr>\n",
              "    <tr>\n",
              "      <th>of</th>\n",
              "      <td>4827</td>\n",
              "    </tr>\n",
              "    <tr>\n",
              "      <th>to</th>\n",
              "      <td>4501</td>\n",
              "    </tr>\n",
              "    <tr>\n",
              "      <th>and</th>\n",
              "      <td>2851</td>\n",
              "    </tr>\n",
              "    <tr>\n",
              "      <th>say</th>\n",
              "      <td>2488</td>\n",
              "    </tr>\n",
              "    <tr>\n",
              "      <th>for</th>\n",
              "      <td>2126</td>\n",
              "    </tr>\n",
              "    <tr>\n",
              "      <th>that</th>\n",
              "      <td>1963</td>\n",
              "    </tr>\n",
              "    <tr>\n",
              "      <th>is</th>\n",
              "      <td>1787</td>\n",
              "    </tr>\n",
              "    <tr>\n",
              "      <th>on</th>\n",
              "      <td>1523</td>\n",
              "    </tr>\n",
              "    <tr>\n",
              "      <th>have</th>\n",
              "      <td>1314</td>\n",
              "    </tr>\n",
              "    <tr>\n",
              "      <th>ha</th>\n",
              "      <td>1290</td>\n",
              "    </tr>\n",
              "    <tr>\n",
              "      <th>state</th>\n",
              "      <td>1240</td>\n",
              "    </tr>\n",
              "    <tr>\n",
              "      <th>percent</th>\n",
              "      <td>1190</td>\n",
              "    </tr>\n",
              "    <tr>\n",
              "      <th>are</th>\n",
              "      <td>1134</td>\n",
              "    </tr>\n",
              "  </tbody>\n",
              "</table>\n",
              "</div>\n",
              "      <button class=\"colab-df-convert\" onclick=\"convertToInteractive('df-330e6a42-ec3e-42a1-9cf9-af61c40dea9a')\"\n",
              "              title=\"Convert this dataframe to an interactive table.\"\n",
              "              style=\"display:none;\">\n",
              "        \n",
              "  <svg xmlns=\"http://www.w3.org/2000/svg\" height=\"24px\"viewBox=\"0 0 24 24\"\n",
              "       width=\"24px\">\n",
              "    <path d=\"M0 0h24v24H0V0z\" fill=\"none\"/>\n",
              "    <path d=\"M18.56 5.44l.94 2.06.94-2.06 2.06-.94-2.06-.94-.94-2.06-.94 2.06-2.06.94zm-11 1L8.5 8.5l.94-2.06 2.06-.94-2.06-.94L8.5 2.5l-.94 2.06-2.06.94zm10 10l.94 2.06.94-2.06 2.06-.94-2.06-.94-.94-2.06-.94 2.06-2.06.94z\"/><path d=\"M17.41 7.96l-1.37-1.37c-.4-.4-.92-.59-1.43-.59-.52 0-1.04.2-1.43.59L10.3 9.45l-7.72 7.72c-.78.78-.78 2.05 0 2.83L4 21.41c.39.39.9.59 1.41.59.51 0 1.02-.2 1.41-.59l7.78-7.78 2.81-2.81c.8-.78.8-2.07 0-2.86zM5.41 20L4 18.59l7.72-7.72 1.47 1.35L5.41 20z\"/>\n",
              "  </svg>\n",
              "      </button>\n",
              "      \n",
              "  <style>\n",
              "    .colab-df-container {\n",
              "      display:flex;\n",
              "      flex-wrap:wrap;\n",
              "      gap: 12px;\n",
              "    }\n",
              "\n",
              "    .colab-df-convert {\n",
              "      background-color: #E8F0FE;\n",
              "      border: none;\n",
              "      border-radius: 50%;\n",
              "      cursor: pointer;\n",
              "      display: none;\n",
              "      fill: #1967D2;\n",
              "      height: 32px;\n",
              "      padding: 0 0 0 0;\n",
              "      width: 32px;\n",
              "    }\n",
              "\n",
              "    .colab-df-convert:hover {\n",
              "      background-color: #E2EBFA;\n",
              "      box-shadow: 0px 1px 2px rgba(60, 64, 67, 0.3), 0px 1px 3px 1px rgba(60, 64, 67, 0.15);\n",
              "      fill: #174EA6;\n",
              "    }\n",
              "\n",
              "    [theme=dark] .colab-df-convert {\n",
              "      background-color: #3B4455;\n",
              "      fill: #D2E3FC;\n",
              "    }\n",
              "\n",
              "    [theme=dark] .colab-df-convert:hover {\n",
              "      background-color: #434B5C;\n",
              "      box-shadow: 0px 1px 3px 1px rgba(0, 0, 0, 0.15);\n",
              "      filter: drop-shadow(0px 1px 2px rgba(0, 0, 0, 0.3));\n",
              "      fill: #FFFFFF;\n",
              "    }\n",
              "  </style>\n",
              "\n",
              "      <script>\n",
              "        const buttonEl =\n",
              "          document.querySelector('#df-330e6a42-ec3e-42a1-9cf9-af61c40dea9a button.colab-df-convert');\n",
              "        buttonEl.style.display =\n",
              "          google.colab.kernel.accessAllowed ? 'block' : 'none';\n",
              "\n",
              "        async function convertToInteractive(key) {\n",
              "          const element = document.querySelector('#df-330e6a42-ec3e-42a1-9cf9-af61c40dea9a');\n",
              "          const dataTable =\n",
              "            await google.colab.kernel.invokeFunction('convertToInteractive',\n",
              "                                                     [key], {});\n",
              "          if (!dataTable) return;\n",
              "\n",
              "          const docLinkHtml = 'Like what you see? Visit the ' +\n",
              "            '<a target=\"_blank\" href=https://colab.research.google.com/notebooks/data_table.ipynb>data table notebook</a>'\n",
              "            + ' to learn more about interactive tables.';\n",
              "          element.innerHTML = '';\n",
              "          dataTable['output_type'] = 'display_data';\n",
              "          await google.colab.output.renderOutput(dataTable, element);\n",
              "          const docLink = document.createElement('div');\n",
              "          docLink.innerHTML = docLinkHtml;\n",
              "          element.appendChild(docLink);\n",
              "        }\n",
              "      </script>\n",
              "    </div>\n",
              "  </div>\n",
              "  "
            ]
          },
          "metadata": {},
          "execution_count": 32
        }
      ]
    },
    {
      "cell_type": "code",
      "source": [
        "X_train_vector = hstack((X_train_vector, np.array([df_train['sentiment']], dtype=float).T))"
      ],
      "metadata": {
        "id": "oHi_rYjh7awA"
      },
      "execution_count": 33,
      "outputs": []
    },
    {
      "cell_type": "code",
      "source": [
        "X_train_vector = hstack((X_train_vector, np.array([df_train['anger'], df_train['fear'], df_train['joy'], df_train['disgust'], df_train['sad']], dtype=float).T))"
      ],
      "metadata": {
        "id": "yNmEYnBSOkJT"
      },
      "execution_count": 34,
      "outputs": []
    },
    {
      "cell_type": "code",
      "source": [
        "df_test = pd.read_csv('test_final.csv')\n",
        "drop_list = ['Unnamed: 0', 'Unnamed: 0.1', 'Unnamed: 0.1.1', 'Unnamed: 0.1.1.1',\n",
        "             'Unnamed: 0.1.1.1.1', 'ID', 'subject', 'speaker', 'speaker_job', \n",
        "             'state_info', 'party_affiliation', 'barely_true_counts', \n",
        "             'false_counts', 'half_true_counts', 'mostly_true_counts', \n",
        "             'pants_on_fire_counts', 'context','sentiment_score', \n",
        "             'sentiment_magnitude', 'speaker_id', 'list', 'sentiment_code', ]\n",
        "df_test = preprocess_df(df_test, drop_list,)"
      ],
      "metadata": {
        "id": "36ChOannER6V"
      },
      "execution_count": 35,
      "outputs": []
    },
    {
      "cell_type": "code",
      "source": [
        "# print(len(df_test))\n",
        "# df_test = df_test.dropna()\n",
        "# print(len(df_test))"
      ],
      "metadata": {
        "id": "WbGpfnoWSU8S"
      },
      "execution_count": 36,
      "outputs": []
    },
    {
      "cell_type": "code",
      "source": [
        "df_test.isna().values.any()"
      ],
      "metadata": {
        "id": "dPofqgFSE4i4",
        "colab": {
          "base_uri": "https://localhost:8080/"
        },
        "outputId": "282b853b-ca90-48bf-f83c-53170500b6e0"
      },
      "execution_count": 37,
      "outputs": [
        {
          "output_type": "execute_result",
          "data": {
            "text/plain": [
              "False"
            ]
          },
          "metadata": {},
          "execution_count": 37
        }
      ]
    },
    {
      "cell_type": "code",
      "source": [
        "# df_test['statement'] = df_test['statement'].apply(lambda X: word_tokenize(X))\n",
        "# df_test['statement'] = df_test['statement'].apply(lambda X: remove_stopwords(X))\n",
        "df_test['statement'] = df_test['statement'].apply(lambda X: stemming(X,))\n",
        "# df_test['statement'] = df_test['statement'].apply(lambda X: lemmatizing(X))"
      ],
      "metadata": {
        "id": "sMsSgVkiGXrD"
      },
      "execution_count": 38,
      "outputs": []
    },
    {
      "cell_type": "code",
      "source": [
        "df_test"
      ],
      "metadata": {
        "id": "fvHKxq97HB2n",
        "colab": {
          "base_uri": "https://localhost:8080/",
          "height": 423
        },
        "outputId": "7c449da7-80d1-47de-8397-c60723ef0df3"
      },
      "execution_count": 39,
      "outputs": [
        {
          "output_type": "execute_result",
          "data": {
            "text/plain": [
              "      label                                          statement sentiment  \\\n",
              "0      true  build a wall on the u.s.-mexico border will ta...         0   \n",
              "1     false  wisconsin is on pace to doubl the number of la...         0   \n",
              "2     false     say john mccain ha done noth to help the vets.         0   \n",
              "3      true  suzann bonamici support a plan that will cut c...         0   \n",
              "4     false  when ask by a report whether he at the center ...         0   \n",
              "...     ...                                                ...       ...   \n",
              "1262   true  say hi budget provid the highest state fund le...         1   \n",
              "1263  false                    ive been here almost everi day.         1   \n",
              "1264  false  in the earli 1980s, sen. edward kennedi secret...         1   \n",
              "1265  false  say an epa permit languish under strickland bu...         0   \n",
              "1266  false  say the governor is go around the state talk a...         0   \n",
              "\n",
              "      anger  fear  joy  disgust  sad  \n",
              "0       0.0   0.0  0.0      0.0  0.0  \n",
              "1       0.0   0.0  0.0      0.0  0.0  \n",
              "2       0.0   0.0  0.0      1.0  1.0  \n",
              "3       0.0   0.0  0.0      0.0  0.0  \n",
              "4       0.0   0.0  0.0      0.0  0.0  \n",
              "...     ...   ...  ...      ...  ...  \n",
              "1262    0.0   0.0  0.0      0.0  0.0  \n",
              "1263    0.0   0.0  0.0      0.0  1.0  \n",
              "1264    0.0   0.0  0.0      0.0  0.0  \n",
              "1265    0.0   0.0  0.0      0.0  0.0  \n",
              "1266    0.0   0.0  0.0      0.0  0.0  \n",
              "\n",
              "[1267 rows x 8 columns]"
            ],
            "text/html": [
              "\n",
              "  <div id=\"df-492b3028-a95e-4dda-9cb2-8e766d5bfb50\">\n",
              "    <div class=\"colab-df-container\">\n",
              "      <div>\n",
              "<style scoped>\n",
              "    .dataframe tbody tr th:only-of-type {\n",
              "        vertical-align: middle;\n",
              "    }\n",
              "\n",
              "    .dataframe tbody tr th {\n",
              "        vertical-align: top;\n",
              "    }\n",
              "\n",
              "    .dataframe thead th {\n",
              "        text-align: right;\n",
              "    }\n",
              "</style>\n",
              "<table border=\"1\" class=\"dataframe\">\n",
              "  <thead>\n",
              "    <tr style=\"text-align: right;\">\n",
              "      <th></th>\n",
              "      <th>label</th>\n",
              "      <th>statement</th>\n",
              "      <th>sentiment</th>\n",
              "      <th>anger</th>\n",
              "      <th>fear</th>\n",
              "      <th>joy</th>\n",
              "      <th>disgust</th>\n",
              "      <th>sad</th>\n",
              "    </tr>\n",
              "  </thead>\n",
              "  <tbody>\n",
              "    <tr>\n",
              "      <th>0</th>\n",
              "      <td>true</td>\n",
              "      <td>build a wall on the u.s.-mexico border will ta...</td>\n",
              "      <td>0</td>\n",
              "      <td>0.0</td>\n",
              "      <td>0.0</td>\n",
              "      <td>0.0</td>\n",
              "      <td>0.0</td>\n",
              "      <td>0.0</td>\n",
              "    </tr>\n",
              "    <tr>\n",
              "      <th>1</th>\n",
              "      <td>false</td>\n",
              "      <td>wisconsin is on pace to doubl the number of la...</td>\n",
              "      <td>0</td>\n",
              "      <td>0.0</td>\n",
              "      <td>0.0</td>\n",
              "      <td>0.0</td>\n",
              "      <td>0.0</td>\n",
              "      <td>0.0</td>\n",
              "    </tr>\n",
              "    <tr>\n",
              "      <th>2</th>\n",
              "      <td>false</td>\n",
              "      <td>say john mccain ha done noth to help the vets.</td>\n",
              "      <td>0</td>\n",
              "      <td>0.0</td>\n",
              "      <td>0.0</td>\n",
              "      <td>0.0</td>\n",
              "      <td>1.0</td>\n",
              "      <td>1.0</td>\n",
              "    </tr>\n",
              "    <tr>\n",
              "      <th>3</th>\n",
              "      <td>true</td>\n",
              "      <td>suzann bonamici support a plan that will cut c...</td>\n",
              "      <td>0</td>\n",
              "      <td>0.0</td>\n",
              "      <td>0.0</td>\n",
              "      <td>0.0</td>\n",
              "      <td>0.0</td>\n",
              "      <td>0.0</td>\n",
              "    </tr>\n",
              "    <tr>\n",
              "      <th>4</th>\n",
              "      <td>false</td>\n",
              "      <td>when ask by a report whether he at the center ...</td>\n",
              "      <td>0</td>\n",
              "      <td>0.0</td>\n",
              "      <td>0.0</td>\n",
              "      <td>0.0</td>\n",
              "      <td>0.0</td>\n",
              "      <td>0.0</td>\n",
              "    </tr>\n",
              "    <tr>\n",
              "      <th>...</th>\n",
              "      <td>...</td>\n",
              "      <td>...</td>\n",
              "      <td>...</td>\n",
              "      <td>...</td>\n",
              "      <td>...</td>\n",
              "      <td>...</td>\n",
              "      <td>...</td>\n",
              "      <td>...</td>\n",
              "    </tr>\n",
              "    <tr>\n",
              "      <th>1262</th>\n",
              "      <td>true</td>\n",
              "      <td>say hi budget provid the highest state fund le...</td>\n",
              "      <td>1</td>\n",
              "      <td>0.0</td>\n",
              "      <td>0.0</td>\n",
              "      <td>0.0</td>\n",
              "      <td>0.0</td>\n",
              "      <td>0.0</td>\n",
              "    </tr>\n",
              "    <tr>\n",
              "      <th>1263</th>\n",
              "      <td>false</td>\n",
              "      <td>ive been here almost everi day.</td>\n",
              "      <td>1</td>\n",
              "      <td>0.0</td>\n",
              "      <td>0.0</td>\n",
              "      <td>0.0</td>\n",
              "      <td>0.0</td>\n",
              "      <td>1.0</td>\n",
              "    </tr>\n",
              "    <tr>\n",
              "      <th>1264</th>\n",
              "      <td>false</td>\n",
              "      <td>in the earli 1980s, sen. edward kennedi secret...</td>\n",
              "      <td>1</td>\n",
              "      <td>0.0</td>\n",
              "      <td>0.0</td>\n",
              "      <td>0.0</td>\n",
              "      <td>0.0</td>\n",
              "      <td>0.0</td>\n",
              "    </tr>\n",
              "    <tr>\n",
              "      <th>1265</th>\n",
              "      <td>false</td>\n",
              "      <td>say an epa permit languish under strickland bu...</td>\n",
              "      <td>0</td>\n",
              "      <td>0.0</td>\n",
              "      <td>0.0</td>\n",
              "      <td>0.0</td>\n",
              "      <td>0.0</td>\n",
              "      <td>0.0</td>\n",
              "    </tr>\n",
              "    <tr>\n",
              "      <th>1266</th>\n",
              "      <td>false</td>\n",
              "      <td>say the governor is go around the state talk a...</td>\n",
              "      <td>0</td>\n",
              "      <td>0.0</td>\n",
              "      <td>0.0</td>\n",
              "      <td>0.0</td>\n",
              "      <td>0.0</td>\n",
              "      <td>0.0</td>\n",
              "    </tr>\n",
              "  </tbody>\n",
              "</table>\n",
              "<p>1267 rows × 8 columns</p>\n",
              "</div>\n",
              "      <button class=\"colab-df-convert\" onclick=\"convertToInteractive('df-492b3028-a95e-4dda-9cb2-8e766d5bfb50')\"\n",
              "              title=\"Convert this dataframe to an interactive table.\"\n",
              "              style=\"display:none;\">\n",
              "        \n",
              "  <svg xmlns=\"http://www.w3.org/2000/svg\" height=\"24px\"viewBox=\"0 0 24 24\"\n",
              "       width=\"24px\">\n",
              "    <path d=\"M0 0h24v24H0V0z\" fill=\"none\"/>\n",
              "    <path d=\"M18.56 5.44l.94 2.06.94-2.06 2.06-.94-2.06-.94-.94-2.06-.94 2.06-2.06.94zm-11 1L8.5 8.5l.94-2.06 2.06-.94-2.06-.94L8.5 2.5l-.94 2.06-2.06.94zm10 10l.94 2.06.94-2.06 2.06-.94-2.06-.94-.94-2.06-.94 2.06-2.06.94z\"/><path d=\"M17.41 7.96l-1.37-1.37c-.4-.4-.92-.59-1.43-.59-.52 0-1.04.2-1.43.59L10.3 9.45l-7.72 7.72c-.78.78-.78 2.05 0 2.83L4 21.41c.39.39.9.59 1.41.59.51 0 1.02-.2 1.41-.59l7.78-7.78 2.81-2.81c.8-.78.8-2.07 0-2.86zM5.41 20L4 18.59l7.72-7.72 1.47 1.35L5.41 20z\"/>\n",
              "  </svg>\n",
              "      </button>\n",
              "      \n",
              "  <style>\n",
              "    .colab-df-container {\n",
              "      display:flex;\n",
              "      flex-wrap:wrap;\n",
              "      gap: 12px;\n",
              "    }\n",
              "\n",
              "    .colab-df-convert {\n",
              "      background-color: #E8F0FE;\n",
              "      border: none;\n",
              "      border-radius: 50%;\n",
              "      cursor: pointer;\n",
              "      display: none;\n",
              "      fill: #1967D2;\n",
              "      height: 32px;\n",
              "      padding: 0 0 0 0;\n",
              "      width: 32px;\n",
              "    }\n",
              "\n",
              "    .colab-df-convert:hover {\n",
              "      background-color: #E2EBFA;\n",
              "      box-shadow: 0px 1px 2px rgba(60, 64, 67, 0.3), 0px 1px 3px 1px rgba(60, 64, 67, 0.15);\n",
              "      fill: #174EA6;\n",
              "    }\n",
              "\n",
              "    [theme=dark] .colab-df-convert {\n",
              "      background-color: #3B4455;\n",
              "      fill: #D2E3FC;\n",
              "    }\n",
              "\n",
              "    [theme=dark] .colab-df-convert:hover {\n",
              "      background-color: #434B5C;\n",
              "      box-shadow: 0px 1px 3px 1px rgba(0, 0, 0, 0.15);\n",
              "      filter: drop-shadow(0px 1px 2px rgba(0, 0, 0, 0.3));\n",
              "      fill: #FFFFFF;\n",
              "    }\n",
              "  </style>\n",
              "\n",
              "      <script>\n",
              "        const buttonEl =\n",
              "          document.querySelector('#df-492b3028-a95e-4dda-9cb2-8e766d5bfb50 button.colab-df-convert');\n",
              "        buttonEl.style.display =\n",
              "          google.colab.kernel.accessAllowed ? 'block' : 'none';\n",
              "\n",
              "        async function convertToInteractive(key) {\n",
              "          const element = document.querySelector('#df-492b3028-a95e-4dda-9cb2-8e766d5bfb50');\n",
              "          const dataTable =\n",
              "            await google.colab.kernel.invokeFunction('convertToInteractive',\n",
              "                                                     [key], {});\n",
              "          if (!dataTable) return;\n",
              "\n",
              "          const docLinkHtml = 'Like what you see? Visit the ' +\n",
              "            '<a target=\"_blank\" href=https://colab.research.google.com/notebooks/data_table.ipynb>data table notebook</a>'\n",
              "            + ' to learn more about interactive tables.';\n",
              "          element.innerHTML = '';\n",
              "          dataTable['output_type'] = 'display_data';\n",
              "          await google.colab.output.renderOutput(dataTable, element);\n",
              "          const docLink = document.createElement('div');\n",
              "          docLink.innerHTML = docLinkHtml;\n",
              "          element.appendChild(docLink);\n",
              "        }\n",
              "      </script>\n",
              "    </div>\n",
              "  </div>\n",
              "  "
            ]
          },
          "metadata": {},
          "execution_count": 39
        }
      ]
    },
    {
      "cell_type": "code",
      "source": [
        "X_test = df_test['statement']\n",
        "X_test_vector = vectorizer.transform(X_test)\n",
        "# X_test_vector = tfidf.transform(X_test_vector)\n",
        "y_test = df_test['label']"
      ],
      "metadata": {
        "id": "ho1_fAI9G1lc"
      },
      "execution_count": 40,
      "outputs": []
    },
    {
      "cell_type": "code",
      "source": [
        "X_test_vector = hstack((X_test_vector, np.array([df_test['sentiment'], ], dtype=float).T))"
      ],
      "metadata": {
        "id": "R5HNujG97fC_"
      },
      "execution_count": 41,
      "outputs": []
    },
    {
      "cell_type": "code",
      "source": [
        "X_test_vector = hstack((X_test_vector, np.array([df_test['anger'] ,df_test['fear'], df_test['joy'], df_test['disgust'], df_test['sad']], dtype=float).T))"
      ],
      "metadata": {
        "id": "6gsqtY2iRbFd"
      },
      "execution_count": 42,
      "outputs": []
    },
    {
      "cell_type": "code",
      "source": [
        "accuracy = list()\n",
        "precision = list()\n",
        "recall = list()\n",
        "f1 = list()\n",
        "for a in range(5):\n",
        "    clf = MultinomialNB(alpha=a)\n",
        "    clf.fit(X_train_vector, y_train)\n",
        "    result = precision_recall_fscore_support(y_test, clf.predict(X_test_vector), average='binary', pos_label='false')\n",
        "    accuracy.append(100 * metrics.accuracy_score(y_test, clf.predict(X_test_vector)))\n",
        "    precision.append(100 * result[0])\n",
        "    recall.append(100 * result[1])\n",
        "    f1.append(100 * result[2])"
      ],
      "metadata": {
        "id": "5IY6-zYnGzqB",
        "colab": {
          "base_uri": "https://localhost:8080/"
        },
        "outputId": "693c0778-2fdc-4c4f-f453-7c40929a54ec"
      },
      "execution_count": 43,
      "outputs": [
        {
          "output_type": "stream",
          "name": "stderr",
          "text": [
            "/usr/local/lib/python3.7/dist-packages/sklearn/naive_bayes.py:557: UserWarning: alpha too small will result in numeric errors, setting alpha = 1.0e-10\n",
            "  % _ALPHA_MIN\n"
          ]
        }
      ]
    },
    {
      "cell_type": "code",
      "source": [
        "plt.figure(figsize = (9, 7))\n",
        "plt.plot(np.arange(0, 5, 1), accuracy, label = 'Accuracy')\n",
        "plt.plot(np.arange(0, 5, 1), f1, label = 'F1')\n",
        "plt.plot(np.arange(0, 5, 1), precision, label = 'Precision')\n",
        "plt.plot(np.arange(0, 5, 1), recall, label = 'Recall')\n",
        "plt.xlabel('Alpha')\n",
        "plt.ylabel('Percent')\n",
        "plt.legend()\n",
        "plt.show()"
      ],
      "metadata": {
        "id": "duM8jxmzI8jY",
        "colab": {
          "base_uri": "https://localhost:8080/",
          "height": 442
        },
        "outputId": "345172f3-c7f2-411f-a3af-f508827da7e8"
      },
      "execution_count": 44,
      "outputs": [
        {
          "output_type": "display_data",
          "data": {
            "text/plain": [
              "<Figure size 648x504 with 1 Axes>"
            ],
            "image/png": "[encoded data removed]"
          },
          "metadata": {
            "needs_background": "light"
          }
        }
      ]
    },
    {
      "cell_type": "code",
      "source": [
        "clf = MultinomialNB(alpha=1)\n",
        "clf.fit(X_train_vector, y_train)\n",
        "print(classification_report(y_test, clf.predict(X_test_vector), digits=4))"
      ],
      "metadata": {
        "id": "plsosacYJIWR",
        "colab": {
          "base_uri": "https://localhost:8080/"
        },
        "outputId": "f05502a6-31f4-47b7-e304-af65d12c75b2"
      },
      "execution_count": 45,
      "outputs": [
        {
          "output_type": "stream",
          "name": "stdout",
          "text": [
            "              precision    recall  f1-score   support\n",
            "\n",
            "       false     0.5737    0.4647    0.5135       553\n",
            "        true     0.6386    0.7325    0.6823       714\n",
            "\n",
            "    accuracy                         0.6156      1267\n",
            "   macro avg     0.6061    0.5986    0.5979      1267\n",
            "weighted avg     0.6102    0.6156    0.6086      1267\n",
            "\n"
          ]
        }
      ]
    },
    {
      "cell_type": "code",
      "source": [
        "ConfusionMatrixDisplay.from_predictions(y_test, clf.predict(X_test_vector))"
      ],
      "metadata": {
        "id": "6Zf0vFL8JP5k",
        "colab": {
          "base_uri": "https://localhost:8080/",
          "height": 296
        },
        "outputId": "e139f3e9-3289-4c6a-9b87-7aa1f21bf0b8"
      },
      "execution_count": 46,
      "outputs": [
        {
          "output_type": "execute_result",
          "data": {
            "text/plain": [
              "<sklearn.metrics._plot.confusion_matrix.ConfusionMatrixDisplay at 0x7fa54b63b4d0>"
            ]
          },
          "metadata": {},
          "execution_count": 46
        },
        {
          "output_type": "display_data",
          "data": {
            "text/plain": [
              "<Figure size 432x288 with 2 Axes>"
            ],
            "image/png": "[encoded data removed]"
          },
          "metadata": {
            "needs_background": "light"
          }
        }
      ]
    },
    {
      "cell_type": "code",
      "source": [
        "i = 1\n",
        "for x in X_test[(clf.predict(X_test_vector)=='true') & (y_test=='false')]:\n",
        "    print(i, ':', x)\n",
        "    i += 1"
      ],
      "metadata": {
        "id": "F0rD0FgKikzB",
        "colab": {
          "base_uri": "https://localhost:8080/"
        },
        "outputId": "40634451-eff5-4a8b-aa3f-c4d0390c22d5"
      },
      "execution_count": 47,
      "outputs": [
        {
          "output_type": "stream",
          "name": "stdout",
          "text": [
            "1 : wisconsin is on pace to doubl the number of layoff thi year.\n",
            "2 : we know there are more democrat in georgia than republicans. we know that for a fact.\n",
            "3 : say 57 percent of feder spend goe to the militari and just 1 percent goe to food and agriculture, includ food stamps.\n",
            "4 : unfortun we have document instanc where peopl defec in the (statehouse) building.\n",
            "5 : ronald reagan face an even wors recess than the current one.\n",
            "6 : the number of illeg immigr could be 3 million. it could be 30 million.\n",
            "7 : i wa gone when there wa a red line against syria.\n",
            "8 : it been sinc 1888 that a senat of a differ parti than the presid in the white hous confirm a suprem court nominee.\n",
            "9 : under rosemari lehmberg, the travi counti d.a. offic conven the grand juri that indict rick perry.\n",
            "10 : say bag litter increas after san francisco ban single-us shop bags.\n",
            "11 : say as a result of the nation health care reform, the congression budget offic say we save $250 million over the first 10 years. over the next 10 years, we save $1.2 trillion in save in term of health care.\n",
            "12 : a propos tax to fund transport project would spend $90,000 to take a singl vehicl off the road dure the morn and afternoon commute.\n",
            "13 : sixti percent of the hispan support the arizona immigr law\n",
            "14 : i did not play ani role in bring the compani to ri as did other in government. i wa task with handl the legisl affect the compani by my superiors.\n",
            "15 : the tax cut deal is give $700 billion to millionair and billionaires.\n",
            "16 : ani state tax law ha to start in the hous and the renew of the state hospit bed tax thi year start in the senate, which is unconstitutional.\n",
            "17 : a strong bipartisan major in the hous of repres vote to defund obamacare.\n",
            "18 : say deleg cant legal chang the republican nation convent rule to prevent donald trump nomination.\n",
            "19 : rebuild three high school will benefit 40 percent of portland public school students.\n",
            "20 : on ban earmarks.\n",
            "21 : the decis for the unit state to buy heavi water from iran will directli subsid iran nuclear program.\n",
            "22 : a judg order mean there a constitut exempt zone if you live within 100 mile of the unit state border.\n",
            "23 : mitch mcconnel oppos \"legisl to creat and protect kentucki job . . . help for the unemployed. . . health care for kentucky' children,\" and \"fair pay for women.\"\n",
            "24 : taxpay subsid 80 percent of each marta trip\n",
            "25 : say peopl in africa liter walk two and three hundr mile in order to vote.\n",
            "26 : half of children struck by car near school are hit by parent drive children to school.\n",
            "27 : citizen properti insur ha over $500 billion worth of risk, with less than $10 billion worth of surplus.\n",
            "28 : when atlanta polic chief georg turner wa interim head of the department, overal crime fell 14 percent and violent crime drop 22.7 percent.\n",
            "29 : the taliban ha been there for year and years, i mean, hundr of thousand of years.\n",
            "30 : it entir possibl that the democrat nominee, [hillari clinton], earn more money give a singl speech on wall street than i made the six year that i wa there back in the 1980 in fact, it quit likely.\n",
            "31 : when tim kain wa governor, spend soared, blow hole in the budget everi year.\n",
            "32 : presid obama ha the lowest public approv rate of ani presid in modern times.\n",
            "33 : on an incom cap for recipi of the popular hope scholarship\n",
            "34 : i can tell you that the enhanc interrog techniqu that have sinc been ban by thi administr specif waterboard work.\n",
            "35 : virginia ha made no progress on job sinc bob mcdonnel took office.\n",
            "36 : on pay for fire milwauke polic offic\n",
            "37 : we spend in tax loophol annual $1.1 trillion. that more than we spend on our defens budget in a year, on medicar or medicaid in a year.\n",
            "38 : on the bush tax cuts.\n",
            "39 : thi would be the largest casino in the unit states.\n",
            "40 : in rural virginia, sen. warner ran 8-10 point ahead of a tradit democrat -- ahead of senat kaine, ahead of governor mcauliffe.\n",
            "41 : mitt romney left massachusett $1 billion in debt.\n",
            "42 : say denmark suicid rate ha been about twice as high as the unit state over the past five decades.\n",
            "43 : china ha total control, just about, of north korea.\n",
            "44 : the fact is the clinton foundat ha got about 80 percent in overhead and 20 percent of the money is actual get into the place it should.\n",
            "45 : the u.s. constitut owe it notion of democraci to the iroquoi tribes.\n",
            "46 : gov. romney himself, with 28 other republican governors, support polici that would have elimin the time limit in the welfar reform law and allow peopl to stay on welfar forever.\n",
            "47 : under lt. gov. lee fisher, ohio is 44th in the countri in term of get money actual into worker retraining.\n",
            "48 : right now, an employ ha more of a chanc of get hit by lightn than be prosecut for hire an undocu worker. that ha to change.\n",
            "49 : wisconsin drop from second in the countri to 41st among state where more than half the student took the act exam.\n",
            "50 : say an obama administr polici prohibit peopl who work with at-risk youth from promot marriag as a way to avoid poverty.\n",
            "51 : four state assembl democrat score a death blow to northeast wisconsin economi by kill hundr of job at a potenti bass pro shop near green bay.\n",
            "52 : seven hundr thousand. that how mani california job will be lost thank to the politician rais the minimum wage.now florida is ad one million jobs, not lose them.\n",
            "53 : the percentag of black children born without a father in the home ha risen from 7 percent in 1964 to 73 percent today, due to chang from presid lyndon johnson great society.\n",
            "54 : acorn could get up to $8.5 billion more tax dollar despit be under investig for voter registr fraud in a dozen states.\n",
            "55 : over 10 years, (extend tax cut for the wealthy) would add less to the deficit than obama ad with the stimulu in one year.\n",
            "56 : gov. rick scott back the feder shutdown.\n",
            "57 : say hi free public univers tuition program is paid for by a tax on wall street speculation.\n",
            "58 : say in 2003 texa cut $10 billion out of the entir budget, yet we put $1.8 billion more into public education. we put $800 million more into health and human services.\n",
            "59 : in the 513 day between trayvon dying, and today verdict, 11,106 african-american have been murder by other african-americans.\n",
            "60 : say if you compar the portland metro area to the cdc statewid caviti rate ... the portland metro area would actual rank as have the 15th lowest caviti rate in the u.s.\n",
            "61 : there are liter teacher now who are get pink slip becaus of sequestration.\n",
            "62 : when he work for att, he \"wa respons for larg part in a $5 billion organization.\"\n",
            "63 : mitch mcconnel vote with harri reid to infring on our gun rights.\n",
            "64 : of the roughli 15 percent of american who dont have health insurance, half of them made more than $50,000 a year.\n",
            "65 : the unit state can immedi tap a domest energi resourc of more than 1.5 trillion barrel of oil, six time more than saudi arabia.\n",
            "66 : we need a senat who show up to work. sherrod brown miss over 350 offici votes.\n",
            "67 : mccain \"ha oppos stem cell research.\"\n",
            "68 : if the trans-pacif partnership is fast-track through the senate, it wont receiv a committe assign and the consider will includ no debate.\n",
            "69 : the cleveland polic ha issu a stand down order to officers.\n",
            "70 : we'r go to have more troop (in afghanistan) . . . than the russian had.\n",
            "71 : florida is invest record amount of fund for hiv/aid prevention.\n",
            "72 : giant compani like toyota will not locat in a state that ha not pass a right-to-work law\n",
            "73 : i brought down crime more than anyon in thi countri -- mayb in the histori of thi countri -- while i wa mayor of new york city. -\n",
            "74 : rhode island unemploy insur system is the most expens such system in the country.\n",
            "75 : the unit state is at histor record high of individu be apprehend on the border from countri with terrorist tie such as pakistan or afghanistan or syria.\n",
            "76 : onion creek highest flow rate on a recent night of flood wa 120,000 cubic feet per second, which is nearli doubl the averag flow rate of niagara falls.\n",
            "77 : wisconsin lawsuit rule are so anti-busi that the state system is one of the most promiscu in america.\n",
            "78 : in 2011, alabama and massachusett pass legisl allow non-citizen who are legal resid to vote in state and local elections.\n",
            "79 : across the country, more than half of the u.s. attorney seat remain without a prosecutor chosen by obama.\n",
            "80 : the red sox wait 87 long year to win the world series.\n",
            "81 : the largest tax increas that we have ever had in our state is your it is the busi margin tax that you signed, governor.\n",
            "82 : we are give almost $2 billion of taxpay money to the junk food and fast food industri everi year to make the (childhood obesity) epidem worse.\n",
            "83 : there is a preced for not nomin someon to the u.s. suprem court in the middl of a presidenti election.\n",
            "84 : health insur and medic cost are go down becaus of obamacare.\n",
            "85 : there is no disagr that we need action by our government, a recoveri plan that will help to jump-start the economy.\n",
            "86 : mani nevadan reli on uber for work, but after accept $70,000 from taxi companies, catherin cortez masto went after uber ... (driving) them out of town.\n",
            "87 : say it probabl cost more than $300,000 to run for a seat on the pedernal electr cooper board of directors.\n",
            "88 : mccain \"still think it' okay when women don't earn equal pay for equal work.\"\n",
            "89 : gene green is the nra favorit democrat in congress. ... it no wonder the congressman ha a lifetim a rate from the nra.\n",
            "90 : you had support john mccain' militari strategi pretti adamantli until thi race.\n",
            "91 : $29 is what famili on snap (i.e. food stamps) have to live on for a week.\n",
            "92 : say rick perri pay to play polit led him to send $899 million to an offshor call center in bermuda, drive down enrol in children health insur\n",
            "93 : gov. mcdonnel propos budget is cut public education.\n",
            "94 : say donald trump and mike penc want to gambl with your retir benefit in the stock market.\n",
            "95 : in the 2012 election, there were more vote cast than regist voter in st. luci county, and palm beach counti had 141 percent turnout.\n",
            "96 : im not a conspiraci theorist and i never allow conspiraci theorist on my program.\n",
            "97 : say christoph littl ha a histori of work against environment protect by defend the worst type of corpor pollut\n",
            "98 : say nick kahl made it harder for mani famili to cover basic health care expenses.\n",
            "99 : in california, the windmil are kill hundr and hundr of eagles.\n",
            "100 : elimin affirm action in admiss in florida led to more african american and hispan kid attend our univers system than before.\n",
            "101 : feder stimulu money went to a georgia tech project that will appar involv the professor jam with world-renown musician to hope also creat satisfi work of art.\n",
            "102 : sourc show (connie) mack as a resid of california, live with hi wife in palm springs.\n",
            "103 : say ohio rep. marci kaptur actual live in a fanci condo in the washington, d.c. suburbs.\n",
            "104 : say mitt romney support cap and trade.\n",
            "105 : sinc the begin of the year weve creat a net increas of 45,000 jobs.\n",
            "106 : the averag age of the minimum wage worker is 35 year old.\n",
            "107 : say one of the state largest govern made charg thi tax one of their top prioriti just thi year.\n",
            "108 : were tax our small busi now at rate higher than corporations.\n",
            "109 : say larri taylor gave in-stat tuition to illeg immigrants.\n",
            "110 : of those 850,000 (new texas) jobs, most were public-sector job and minimum-wag jobs.\n",
            "111 : it is a fact that it cost more to run the school in august.\n",
            "112 : the problem with rais tax rate on the wealthiest american is that more than half of them are small busi owners.\n",
            "113 : franklin roosevelt never alloc more than 12 percent of gdp to feder spending, while the percentag for barack obama is not project to drop below 22.8 percent.\n",
            "114 : about 78 to 81 hous democrat are member of the communist party. ... it call the congression progress caucus.\n",
            "115 : bill mccollum back jim greer effort to hide financi irregularities.\n",
            "116 : creflo dollar need a $65 million gulfstream g650 to carri thousand of pound of food and other suppli -- as well as the word of god -- worldwide.\n",
            "117 : all aboard florida is a 100 percent privat venture. there is no state money involved.\n",
            "118 : say under presid barack obama there been the lowest discretionari spend weve had in decad in the unit states.\n",
            "119 : youv been tremend deceiv by peopl who say the earth is not flat.\n",
            "120 : hedg fund manag pay less in tax than nurs and truck drivers.\n",
            "121 : in earli vote in miami-dad county, there is a trickl of two or three peopl a day at a veri high cost to keep those public librari and poll open.\n",
            "122 : in just a few year in office, sen. obama ha accumul the most liber vote record in the senate.\n",
            "123 : jule bailey wa instrument in creat the busi energi tax credit that let compani like wal-mart profit by $11 million while cost the oregon gener fund $33 million.\n",
            "124 : the big wall street banks, the big corpor give mani time more polit donat to democrat than republicans.\n",
            "125 : david perdu ha never vote in a republican primari until hi name wa on the ballot.\n",
            "126 : say in texa it legal to shoot someon who commit a public nuisanc under the cover of dark.\n",
            "127 : all of texa is conservative, except a littl bit of austin.\n",
            "128 : a few week ago, (the) educ committe in congress is decid what go to be in your local salad bar.\n",
            "129 : a propos region transport tax will last a minimum of 10 years, and ha been approv to last longer.\n",
            "130 : it not true that sinc he been the president, execut in iran have increas by four times.\n",
            "131 : over half the peopl on disabl are either anxiou or their back hurts.\n",
            "132 : say gov. mike penc and rep. mike coffman take the same posit on a number of things... coffman and penc oppos equal right for lgbt americans.\n",
            "133 : all of florida four-year state colleg now offer bachelor degre for onli $10,000.\n",
            "134 : one of everi two wisconsin resid are on some kind of govern handout.\n",
            "135 : a new rule by the epa would forc dairi farmer to compli with the spill prevention, control and countermeasur program when deal with spilt milk -- the same regul oil and natur ga produc must follow.\n",
            "136 : in the u.s. constitution, there a littl section in there that talk about life, liberti and the pursuit of happiness.\n",
            "137 : if an individu is determin to commit suicide, the avail of a gun is not a factor becaus they will find a way.\n",
            "138 : presid hoover, truman and eisenhow collect order the deport of at least 15 million illeg aliens.\n",
            "139 : we now work the longest hour of ani peopl around the world.\n",
            "140 : we haven't built a refinery, i think, in 30 years.\n",
            "141 : the republican nation convent is a super bowl time four.\n",
            "142 : california prop 55 prevent $4 billion in new cut to our schools.\n",
            "143 : we were not, i repeat, were not told that waterboard or ani of these other enhanc interrog method were used.\n",
            "144 : 22 countri invad by the u.s. in 20 years.\n",
            "145 : say ron johnson help compani ship job overseas.\n",
            "146 : our economi is not growing.\n",
            "147 : say state senat candid monk elmer vote to exceed the (school district properti tax) spend caps.\n",
            "148 : say texa ha so few gas-pump inspector in the field, the heb of thi state, the brookshir of thi state, theyr calibr their own ga pumps. the (texa depart of agriculture) just send them the sticker and they calibr them.\n",
            "149 : lorain is the poorest urban school district in the state of ohio.\n",
            "150 : say presid barack obama said that american exception is no more except than the exception of ani other country.\n",
            "151 : say the fluorid austin is put in it drink water is toxic waste.\n",
            "152 : emori univers student were provid counsel after someon wrote trump 2016 in chalk on campus.\n",
            "153 : through the clinton foundation, the clinton are now worth in excess of $100 million.\n",
            "154 : the u.s. suprem court struck down wisconsin photo id elect law\n",
            "155 : democrat in congress had control sinc januari of 2007. they haven't pass a law make waterboard illegal. they haven't gone into ani of these thing and chang law.\n",
            "156 : and weve constantli been the lowest unemploy counti in the state.\n",
            "157 : onc a woman enter into the sex trade, her averag life expect is seven years.\n",
            "158 : jeb polici in florida help lead to it almost total collapse.\n",
            "159 : say kid who start in the ninth grade in the citi of newark thi past september, 23 percent of them will graduat in four years.\n",
            "160 : say mccain wa a \"hanoi hilton songbird\" who collabor with the enemy.\n",
            "161 : say gov. chri christi poll rate have been go up.\n",
            "162 : on debating.\n",
            "163 : virtual everi person across thi countri ha seen premium go up and up and up due to obamacare.\n",
            "164 : everi (u.s. suprem court) nomine sinc 1875 ha receiv a nomin hearing.\n",
            "165 : the afford care act will like go down as the biggest tax increas in history.\n",
            "166 : all the talk about social dure the campaign made young peopl more interest in it by elect day.\n",
            "167 : say marco rubio believ the earth is 9,000 year old and that human hunt dinosaur to extinction; say rand paul believ the earth is 10,000 year old and god remov dinosaur to make space for humans.\n",
            "168 : a $250 fine if your caught with a plastic bag come out of a store. plastic bag polic anyone?\n",
            "169 : in countri where there are higher, more strict gun laws, there is more gun violence.\n",
            "170 : say he never want to rais the debt ceiling.\n",
            "171 : it ha been over 80 year sinc a lame-duck presid appoint a suprem court justice.\n",
            "172 : while (charli crist) wa governor, util cost went up 30 percent and went from below the nation averag to abov the nation average. sinc i got elected, util rate have come down 11 percent and now we are below the average.\n",
            "173 : on support right to work legisl in 2015\n",
            "174 : say the success of hi econom agenda is support by the fact we went from unemploy at 9.2 percent when i decid to run for governor four year ago to two point lower.\n",
            "175 : potu economists: stimulu ha cost $278,000 per job.\n",
            "176 : say donald trump convers to pro-lif belief are akin to justin biebers, who said in the past that abort wa no big deal to him.\n",
            "177 : metro on whether it could use bond money for restoration.\n",
            "178 : say hjm 20 wa the onli bill not assign to a hous committee.\n",
            "179 : say the state is requir pick up 70 percent of the cost of k-12 education.\n",
            "180 : the minimum wage ha risen $2.35 in the last two years. that 31 percent.\n",
            "181 : everywher that we have more citizen carri guns, crime is less. there a studi show that where state have open carri or conceal carry, but particularli open carry, the crime is down 25 percent.\n",
            "182 : the music industri is the biggest export from africa after oil and gas.\n",
            "183 : unfortunately, sinc mr. foster been mayor ... there are less peopl employ in the citi of st. petersburg than there were prior to hi take office.\n",
            "184 : chile rank third intern in econom freedom, while the u.s. rank 17th.\n",
            "185 : under the white hous budget proposal, we will not be ad more to the nation debt by the middl of the decade.\n",
            "186 : bill mccollum said tax cut don't work.\n",
            "187 : the tax burden on virginia famili wa lower under tim kain than under georg allen.\n",
            "188 : miami-dad counti is the no. 1 donor counti in the state.\n",
            "189 : we havent yet taken out a neg ad.\n",
            "190 : here in florida, ive slash govern by 10 percent. that' $7 billion.\n",
            "191 : over the past year ... our 16 counti have hemorrhag more than 6,000 job with no appar end in sight.\n",
            "192 : sinc presid barack obama took office, you have 1,700 employe just at the depart of transport earn over $170,000.\n",
            "193 : even with recent changes, the averag hourli wage at gener motor is still $75 an hour.\n",
            "194 : u.s. hous oppon paul ryan support cut fund for veteran by 24 percent.\n",
            "195 : congress includ 36 peopl accus of spousal abuse, 84 arrest for drunk drive in the past year, 71 with terribl creditand more.\n",
            "196 : say the initi portland plastic bag ban repres onli a modest share of total single-us checkout bag use.\n",
            "197 : the new england journal of medicin releas a survey the week that presid obama sign obamacar state that over 30 percent of american physician would leav the profess if the govern took over health care.\n",
            "198 : i rememb one of [curt schillings] teammat said he paint hi sock, the bloodi sock.\n",
            "199 : canada set asid 36 percent of their visa for peopl with skill they think their countri needs. we set asid 6 percent.\n",
            "200 : the feder health care law is probabl the biggest tax increas ever in the histori of our country.\n",
            "201 : a presid must \"obtain congress' consent befor formal accept the nobel prize.\"\n",
            "202 : there more murder with hammer last year than...shotgun and pistol and ak-47s.\n",
            "203 : becaus of voter fraud, republican candid need to do a point or two better to win statewid elect in wisconsin.\n",
            "204 : say that 9 million to 50 million undocu immigr live in the unit states.\n",
            "205 : ohioan want an end to pay-to-play politics.\n",
            "206 : gener motor is the largest corpor in the world again.\n",
            "207 : say mitt romney belittl middle-class tax cut as noth more than littl band-aids.\n",
            "208 : even among second and third gener muslim in the unit states, there no real assimilation.\n",
            "209 : on subsidi for ethanol production.\n",
            "210 : half of all hospit senior are suffer from malnutrit so sever that it either caus their ill or it prevent them from get better.\n",
            "211 : under conserv leadership, congress ha reduc the feder deficit by 60 percent nearli $800 billion.\n",
            "212 : what i look at everi month is how mani more new jerseyan are back to work. you have anoth 9,900 last month that are back to work and over almost 90,000 that are back to work now sinc i becam governor.\n",
            "213 : texa high school graduat rate went from 27th in the countri in 2002, to second highest in the countri in 2013.\n",
            "214 : say the secret john doe crimin investig of hi campaign ha been resolv and two judg have said it is over.\n",
            "215 : drink champagn could help prevent alzheim and other form of dementia.\n",
            "216 : say that hi transport budget and ohio turnpik plan would make sure we have lower toll than weve had through the histori of the turnpike.\n",
            "217 : the war spend bill actual spend more money on the intern monetari fund than on the war.\n",
            "218 : the madison-milwauke (high-speed) train line is dead.\n",
            "219 : the runnerup to caitlyn jenner for espn arthur ash courag award wa armi veteran noah galloway, who lost an arm and leg to a roadsid bomb in iraq.\n",
            "220 : in six years, (u.s. rep. gary) peter introduc zero bill that becam law.\n",
            "221 : obamacar will drive 2.5 million american out of the workforce.\n",
            "222 : on donald trump track record in busi\n",
            "223 : the amount of money that we put into run our own state legislatur is nearli as much as we put into the univers of rhode island.\n",
            "224 : beaverton enjoy the most divers popul (bi percentag of population) among oregon cities.\n",
            "225 : i turn a $110 million deficit into a $1.6 million surplu for our city.\n",
            "226 : under the plan, for the first five year your employ not onli ha to keep the coverage, but you can't migrat to the public plan.\n",
            "227 : say the naacp ohio chapter ha endors issu 2.\n",
            "228 : john mccain ha chang posit on invad iraq.\n",
            "229 : state employe are actual go to get a pay raise.\n",
            "230 : the democrat major in the senat ha fail to submit [a] budget in the past 1,000 days.\n",
            "231 : under the dream act, after two year of higher educ or militari servic you are elig for citizenship. onc a citizen, thi pave the way to bring the rest of (your) extend famili to the unit states.\n",
            "232 : the state depart say the 42,000 job creat by the keyston xl pipelin are ongoing, endur jobs.\n",
            "233 : in mani instances, (peoples) health care cost are more than their mortgag cost or their rent, which, by the way, is a first in american history.\n",
            "234 : say vinc polistina is collect nearli $70,000 in taxpayer-fund salari -- plu a govern pension.\n",
            "235 : the depart of health and human servic is provid $160 million to the state of pennsylvania to set up a new high-risk insur pool program that would cover ani abort legal in the state.\n",
            "236 : say houston 18th congression district ha been gentrifi and is home to more anglo than african americans.\n",
            "237 : stimulu tax cut \"began show up in paycheck of 4.8 million indiana household about three month ago.\"\n",
            "238 : were second onli to boston in colleg student per capita.\n",
            "239 : say catherin cortez masto wa happi to line her own pocket with taxpay dollar when state employe were slam with frozen salaries.\n",
            "240 : white men account for 69 percent of those arrest for violent crimes.\n",
            "241 : the climate-chang agreement between the unit state and china requir the chines to do noth at all for 16 years.\n",
            "242 : we have trade agreement with 20 countries, and we have trade surplus with each one of those 20.\n",
            "243 : congress' approv rate is 11 percent. you know who' higher? dick cheney and hmos.\n",
            "244 : oil compani ...current have 68-million acr that they'r not using.\n",
            "245 : scientist tell us that we could have a cure in 10 year for alzheim were it not for overzeal regulators, excess taxat and greedi litigators.\n",
            "246 : mitt romney made over a hundr million dollar by shut down (a marion, ind. paper) plant.\n",
            "247 : germani is crime-riddl right now becaus of migrat to europe.\n",
            "248 : dure obama first five year as president, black unemploy increas 42 percent. dure reagan presidency, black unemploy drop 20 percent.\n",
            "249 : milwauke lost the headquart for millercoor becaus the area lack good transit.\n",
            "250 : say presid obama said of the nation debt, if i dont have thi done in three years, then there go to be a one-term proposition.\n",
            "251 : say texa ha more than 80,000 abort each year.\n",
            "252 : if trump had just put hi father money in a mutual fund ... hed have $8 billion.\n",
            "253 : say adam hasner give the wealthi tax break worth $250,000 a year but hike middl class tax $2,000.\n",
            "254 : state hous incumb jill chambers, r-atlanta, person profit from taxpay money.\n",
            "255 : say milwauke counti execut chri abel spent $100,000 of taxpay money on a new luxuri suv.\n",
            "256 : the governor ha made a commit to billion of dollar in debt and new spend without ani explan of how he plan to pay that money back.\n",
            "257 : it wa hillari clinton who left american in harm way in benghazi and after four american fell said, what differ at thi point doe it make?\n",
            "258 : scott walker had a 2.3 gpa when he wa ask to leav marquett univers for cheating.\n",
            "259 : i made a bunch of these promis dure the campaign. ... weve got about 60 percent done in three years.\n",
            "260 : some of the wealthiest american are african-american now.\n",
            "261 : there 400 more peopl work in health care today in new hampshir than when we pass the budget.\n",
            "262 : nearli 70 percent of all feder spend will go toward social security, medicare, and medicaid in fiscal year 2014.\n",
            "263 : in ohio, each year an estim 1,000 children becom victim of human trafficking, and over 3,000 more are at risk.\n",
            "264 : the [obama] administr regulatori assault on coal-fir energi ha put thousand of american out of work\n",
            "265 : four member of the rhode island gener assembl went to vote in 2010 and were told they had alreadi voted.\n",
            "266 : say measur 3-386 will cost a fortun for elect while measur 3-388 will cost less.\n",
            "267 : thi is the first time in the histori that weve had the rais of a debt limit also with spend cuts.\n",
            "268 : kelli ayott vote for a budget that had $90 billion of cut to pell grants.\n",
            "269 : about two-third of medicaid beneficiari are children, but they account for one-third of the program cost, while one-third are elderly, and they account for two-third of the cost.\n",
            "270 : our campaign depend on small donat for the major of our support.\n",
            "271 : the american conserv union give [rep. tim] ryan a dismal 0.0 percent rate for the billion he ha contribut to our nation debt.\n",
            "272 : the depart of commerce, educ and energi and the epa saw their spend increas by between 130 percent and 219 percent between 2008 and 2010.\n",
            "273 : democrat are cut our school funding. four time in the last 10 year befor we came into office.\n",
            "274 : more than 1,000 american soldier have lost their live in afghanistan in the last 27 months. thi is more than the combin total of the nine year before.\n",
            "275 : haramb receiv 15,000 vote in the presidenti election.\n",
            "276 : say thom tilli give tax break to yacht and jet owners.\n",
            "277 : dure hi time as hous speaker, unemploy came down from 5.6 percent to under 4 (percent).\n",
            "278 : tampa got more (feder housing) money becaus they score higher on the blight score system, so theyv got a much bigger problem than we do.\n",
            "279 : the manchin-toomey amend would have crimin certain privat transfer of firearm between honest citizens, requir lifelong friends, neighbor and some famili member to get govern approval.\n",
            "280 : mccain tri to have it both way on iraq\n",
            "281 : the reason we even have colleg is that at some point there were politician who said, you know what? we should start colleges.\n",
            "282 : if the gener assembl doe not address the state structur deficit, more than 23,000 educ profession will be immedi yank out of pennsylvania schools.\n",
            "283 : eighti percent of wall street execut and their spous donat go to democrats.\n",
            "284 : steve southerland did not pay hi tax in 05, 06, 07, 08 or 09.\n",
            "285 : elimin obamacar ... save $95 billion a year.\n",
            "286 : at least a quarter of those apprehend at the border have crimin records.\n",
            "287 : when it come to jobless workers, mitt romney say he like to fire people.\n",
            "288 : if you look at the applic for a secur clearance, i have a clearanc that even the presid of the unit state cannot obtain becaus of my background.\n",
            "289 : in 2004, \"20 percent of u.s. household were get about 75 percent of their incom from the feder government. ... anoth 20 percent were receiv almost 40 percent.\"\n",
            "290 : in europe, church attend rate (are) in the singl digit becaus church are support by taxes.\n",
            "291 : say georg lemieux even compar marco rubio to barack obama.\n",
            "292 : point of light is the world largest volunt organization.\n",
            "293 : say chri christi plan to kick-start our economi is to propos an incom tax cut that disproportion benefit the wealthy, and...h still propos it.\n",
            "294 : we came out of the white hous not onli dead broke, but in debt.\n",
            "295 : ive been here almost everi day.\n",
            "296 : say the governor is go around the state talk about [how] we should fund an incom tax cut that benefit higher incom earner and not lower incom earner\n"
          ]
        }
      ]
    },
    {
      "cell_type": "code",
      "source": [
        "i = 1\n",
        "for x in X_test[(clf.predict(X_test_vector)=='false') & (y_test=='true')]:\n",
        "    print(i, ':', x)\n",
        "    i += 1"
      ],
      "metadata": {
        "id": "_sbfvhYDiv4n",
        "colab": {
          "base_uri": "https://localhost:8080/"
        },
        "outputId": "80c76d5c-83df-4a85-f341-252e31abc749"
      },
      "execution_count": 48,
      "outputs": [
        {
          "output_type": "stream",
          "name": "stdout",
          "text": [
            "1 : build a wall on the u.s.-mexico border will take liter years.\n",
            "2 : suzann bonamici support a plan that will cut choic for medicar advantag seniors.\n",
            "3 : there have not been ani public safeti issu in citi that allow transgend peopl to use the bathroom of the gender they identifi as.\n",
            "4 : now, there wa a time when someon like scalia and ginsburg got 95-plu votes.\n",
            "5 : contend that presid obama liter said (if) hi cap-and-trad propos were to pass, that util rates, hi word now, would, necessarili skyrocket.\n",
            "6 : tom ganley ha two fs from the better busi bureau and over 160 complaint in just three years.\n",
            "7 : say thoma jefferson said, you might be abl to fool the peopl for awhile, and they may go astray, but sooner or later the american peopl are go to wake up and they will correct the course.\n",
            "8 : in massachusetts, scott brown push for a law to forc women consid abort -- forc them -- to look at color photograph of develop fetuses.\n",
            "9 : the fed creat $1.2 trillion out of nothing, gave it to banks, and some of them foreign banks, so that they could stabil their operations.\n",
            "10 : greg abbott activ the state guard to monitor jade helm 15 in case the troop tri to impos martial law, disarm innoc texans, and detain them in tunnel beneath close walmart stores.\n",
            "11 : you said you would vote against the patriot act, then you came to the senate, you vote for it.\n",
            "12 : say marco rubio said social secur and medicar haveweaken us as a people.\n",
            "13 : as secretari of the depart of energi under former presid bill clinton, \"i creat reserv of home heat oil.\"\n",
            "14 : say donald trump ha said he love war, includ with nukes.\n",
            "15 : the texa depart of transportation... misplac a billion dollars.\n",
            "16 : pepper ... kick off a jock tax, impos a levi on the sport and entertain industry.\n",
            "17 : under mayor tom barrett, the number of milwauke polic offic ha not increased.\n",
            "18 : put three republican in my cabinet...i unprecedented.\n",
            "19 : as a result of climat change, ice fishermen in wisconsin are alreadi notic fewer day they can be out on our ice cover lakes.\n",
            "20 : muslim nation did not call out the peopl who celebr the 9/11 attacks.\n",
            "21 : iran presid hassan rouhani ha more cabinet member with ph.d. from american univers than member of barack obama cabinet.\n",
            "22 : the word subhuman mongrel, which ted nugent call presid barack obama, were use by the nazi to justifi the genocid of the jewish community.\n",
            "23 : say presid obama and hi nation labor relat board su boe over it decis to open a plant in south carolina.\n",
            "24 : orrin hatch co-sponsor a 1993 health care bill that had an individu mandate.\n",
            "25 : say presid barack obama ha taken 92 day of vacat sinc he wa sworn in, compar to 367 for presid georg w. bush at the same point in hi presidency.\n",
            "26 : say bill nelson vote 98 percent of the time with barack obama.\n",
            "27 : say nfl commission roger goodel interview domest abus victim janay rice with ray rice present and for everi domest violenc agency, everi law enforc agency, that a no-no.\n",
            "28 : the unit state ha the longest surviv constitution.\n",
            "29 : say state mandat test come from an english company.\n",
            "30 : sixteen million job were creat under ronald reagan presidency.\n",
            "31 : say american poll show russian presid vladimir putin ha an 80 percent approv rating.\n",
            "32 : barack obama ha provid gun to mexican drug cartels.\n",
            "33 : i said no to these big bank bailouts.\n",
            "34 : peopl have a constitut right to have semiautomat rifles.\n",
            "35 : on hi half pay pledge.\n",
            "36 : say new start, pass while clinton wa secretari of state, is a treati cut russia nuclear arms.\n",
            "37 : under hillari clinton plan illeg immigr convict of commit crime get to stay.\n",
            "38 : say a ted cruz ad ha got me bull-doz down a house.i never bulldoz it down. it fals advertising.\n",
            "39 : obama said he would unilater renegoti the north american free trade agreement.\n",
            "40 : last week three most-view televis program weresunday night football, thursday night footbal and monday night football.\n",
            "41 : on feder stimulu money for expand rail service.\n",
            "42 : the clinton foundat is a chariti where presid and secretari clinton and their daughter, they take no salary, they get no money from it, they take no person benefit from it.\n",
            "43 : barack obama and hillari clinton have chang their posit (on the iraq war withdrawal) to follow chri dodd.\n",
            "44 : it is alreadi in the law that there is a requir to screen (refugees) for religion.\n",
            "45 : the keyston pipelin creat 35 perman job after construction, accord to a govern report.\n",
            "46 : mitt romney boast that he is \"proud to be the onli major candid for presid to sign the tax pledge. the other have not.\"\n",
            "47 : a plan group said that to meet anticip traffic demand by 2035, interst 35 between austin and round rock will need a dozen addit lane go north and 14 addit southbound lanes.\n",
            "48 : say a youtub video show thoma dimassimo, the man who rush trump at an ohio rally, drag the american flag on the ground like it wa a piec of garbage.\n",
            "49 : obama work with \"sen. dick lugar, a republican, to help lock down loos nuclear weapons.\"\n",
            "50 : on whether peopl can keep their insur under the afford care act.\n",
            "51 : almost everi state ha offer an insur plan on it health exchang that doe not cover abortion.\n",
            "52 : say tom ganley ha been su over 400 times, for fraud, discrimin and more, and a judg call tom ganley busi practic decept and unconscionable.\n",
            "53 : a recal elect for wisconsin governor would cost $7.7 million -- $7.7 million that may alreadi be alloc to merit rais for teacher or health care for the poor or school book for your kids.\n",
            "54 : say my plan is a properti tax cut.\n",
            "55 : say texa gop platform call for end to teach critic think in public schools.\n",
            "56 : the hous ha never fail to pass a budget in the modern era.\n",
            "57 : the baucu bill \"contain provis that would send massiv feder subsidi directli to both privat insur plan and government-chart cooper that pay for elect abortion.\"\n",
            "58 : obama \"won health care for 150,000 people.\"\n",
            "59 : state govern have littl abil to stimul job growth in the short run.\n",
            "60 : he (obama) chair the subcommitte on europe. ... he' held not one substant hear to do oversight.\n",
            "61 : sarah palin \"alreadi ha more execut experience\" than barack obama and joe biden \"combined.\"\n",
            "62 : noth in the constitut explicitli guarante our right to vote.\n",
            "63 : sherrod brown and hi special interest alli in washington are plot to spend over $13 million to defeat josh mandel.\n",
            "64 : u.s. rep. conni mack vote to rais hi own pay sever times.\n",
            "65 : oppon of section 5 (of the vote right act) complain of state expense, yet their onli cost is the paper, postag and manpow requir to send copi of legisl to the feder govern for review.\n",
            "66 : there is noth in the current state public record law that prohibit sensit or confidenti busi inform from be just that, confidential.\n",
            "67 : the u.s. doesnt make televis set anymore.\n",
            "68 : when these same republican - includ mr. boehner - were in charge, the number of earmark and pet project went up, not down.\n",
            "69 : heroin .. pour across our southern borders.\n",
            "70 : brazil built a $300 million stadium in the amazon rainforest that is onli go to be use for four world cup games, and there no team that can fill it afterwards.\n",
            "71 : my support arent special interest group in madison and milwaukee.\n",
            "72 : john mccain fought to rein in fanni and freddie...but democrat block the reforms.\n",
            "73 : say donald trump publicli invit putin to hack into american (emails).\n",
            "74 : militari spend cuts, known as the sequester, were presid barack obama idea.\n",
            "75 : first, he wa in favor of my plan, now he' attack it.\n",
            "76 : jennif carrol an outsider.\n",
            "77 : a propos to reduc the deficit involv larg tax cut for the top bracket.\n",
            "78 : say mitt romney hous polici is, dont tri and stop the foreclosur process. let it run it cours and hit the bottom.\n",
            "79 : individu and small busi will be hit by increas in health insur premium as high as 39 percent.\n",
            "80 : nineti percent of the peopl in arkansa still love bill clinton.\n",
            "81 : say a studi show that children who live with a biolog parent and the parent boyfriend or girlfriend have a 20 time greater chanc of be sexual abused.\n",
            "82 : the democrat in the senat and some member of congress defend what fanni and freddi were doing. they resist ani change.\n",
            "83 : in cobb county, everi meet open with a prayer. the aclu objected. su ... [sam] olen took on the aclu and won!\n",
            "84 : republican are attempt to remov barack obama from georgia presidenti ballot in 2012.\n",
            "85 : he wa a member of the iraq studi group and wa either fire or quit from a veri import commiss that wa tri to figur out the way forward in iraq.\n",
            "86 : say the health care reform bill wa paid for, in part, by take money from student and the student loan system.\n",
            "87 : john mccain \"ha threaten extinct for north korea and sung song about bomb iran.\"\n",
            "88 : say a prank phone call caus 400 children to be taken from their parents... without warrant.\n",
            "89 : sixteen [federal] program exist to fight homeless and some of them are duplicative.\n",
            "90 : it doesn't make sens to me to send $1-billion a day out of our country. we can be energi independ and should be.\n",
            "91 : say scott walker plan to replac obamacar is a new entitl program for everi singl american human be from the time they are born right up until they grow old and becom elig for medicare.\n",
            "92 : we have empow state insur commission to review the rate hike that are take place in states. and in some state like north carolina, they have alreadi use it and roll back premium increas by 25 percent.\n",
            "93 : the permiss to engag wa given befor the word rpg wa ever used.\n",
            "94 : the senat health care bill doe not contain limit on medic malpractic lawsuits.\n",
            "95 : say barack obama ha the legal author to let in realli howev mani refuge he wants, from whatev country.\n",
            "96 : georg bush ... use a sign statement (on a fema bill) to say, 'i don't have to follow that, unless i choos to.' \n",
            "97 : i save the taxpay $2-billion on a bogu air forc boe tanker deal where peopl went to jail.\n",
            "98 : a telephon compani will no longer have to provid landlin servic to custom if there is an altern provider, includ wireless.\n",
            "99 : say congresswoman loretta sanchez ha pass one bill in her 20 year in congress, and that wa to renam a post office.\n",
            "100 : say that, unlik the u.s. senate, even the libyan government, in the middl of a civil war, pass a budget on june 15, 2011\n",
            "101 : vern buchanan. hi old busi wa caught illeg funnel over $60,000 in campaign donat to buchanan to influenc hi election.\n",
            "102 : in new mexico, democrat gubernatori candid dian denish spent feder stimulu fund on campaign christma cards.\n",
            "103 : hous republican are ram through legisl ... to classifi pizza as a veget for the purpos of school lunches.\n",
            "104 : i commit to public financing; (obama) commit to public financing.\n",
            "105 : say donald trump want to replac obamacar with a single-pay system.\n",
            "106 : all privat healthcar plan must conform to govern rule to particip in a healthcar exchange.\n",
            "107 : secur commun ha a proven track record of enhanc public safeti by focus on violent offend and those that pose a threat to our commun and our nation security.\n",
            "108 : there never realli wa a hastert rule.\n",
            "109 : in 1981, matagorda, brazoria, and galveston counti all opt out of the social secur program for their employees. today, their program is very, veri well-fund and there is no question about whether it go to be fund in year to come.\n",
            "110 : say (clinton) call presid assad a reformer. she call assad a differ kind of leader.\n",
            "111 : berni sander opposesth trans-pacif partnership, and hillari clinton supportsit.\n",
            "112 : say rick scott took $200,000 in campaign contribut from a compani that profit off pollution.\n",
            "113 : in a lawsuit between privat citizens, a florida judg announc the decis wa go to be base on islam law.\n",
            "114 : roy barn is like barack obama becaus theyr both do a lot of apologizing.\n",
            "115 : the pope and donald trump and tammi baldwin all agre on elimin the carried-interest tax break.\n",
            "116 : say rick scott strip women of access to public health care.\n",
            "117 : a major of american agre with a ban on assault weapons. and by the way, so did ronald reagan.\n",
            "118 : say if you tri to hide marijuana in a hemp field, it becom worthless. the thc goe away.\n",
            "119 : bill nelson vote to confirm sonia sotomayor, who sign a suprem court opinion say american do not have an individu right to own firearms.\n",
            "120 : leticia van de putt oppos put nation guard troop on the border, would send million to central american govern instead and wrote the law give in-stat tuition to illeg immigrants.\n",
            "121 : when you read the koran, it talk about dont take christian and jew as your friends.\n",
            "122 : dan patrick call for increas the ga tax and the state sale tax.\n",
            "123 : to thi day, (the cuban government) is a regim that provid safe harbor to terrorist and fugitives.\n",
            "124 : under the new health care law, if a landscap want to buy a new lawnmower, or a restaur need a new ice-maker, they have to report that to the feds.\n",
            "125 : say austin is the largest citi in america without a congression district anchor in it.\n",
            "126 : use headlin to portray gov. rick perri as beholden to special interests.\n",
            "127 : her campaign and her support in her campaign were the one that born out the birther movement.\n",
            "128 : chri christi help funnel $6 million in feder hurrican sandi money to a senior center in belleville, n.j., a place that suffer no damage.\n",
            "129 : the feder budget bill reauthor the oversea privat invest corporation, which provid taxpay dollar so that the four season hotel can build a resort in turkey.\n",
            "130 : a mailer from the obama campaign \"accur indicates\" that hillari clinton would \"forc uninsur peopl to buy insurance, even if they can't afford it.\"\n",
            "131 : the (russian) rubl is alreadi go down.\n",
            "132 : say she brought togeth business, labor and hospit to give 94,000 oregon children health care.\n",
            "133 : say they said it wa imposs to balanc a budget at the same time, with an $11 billion deficit and we did it.\n",
            "134 : say barack obama is the first presid in modern histori not to have a singl year of 3 percent growth.\n",
            "135 : other state have consid or have sunset advisori commissions; the feder govern ha the ability, too.\n",
            "136 : under wisconsin law, anyon who know anyth about a john doe secret crimin investig cant talk about it.\n",
            "137 : say daniel webster want to make divorc illegal, even for abus wives.\n",
            "138 : say amanda fritz publicli claim to be endors by naral pro-choic oregon, both on her websit and in the voter guide.\n",
            "139 : say she never said dont build texa 45 southwest.\n",
            "140 : chines tire import threaten 1,000 american jobs, so presid obama stood up to china and protect american workers. mitt romney attack obama decision.\n",
            "141 : say dan patrick propos arizona-styl show-me-your-pap legislation.\n",
            "142 : say paul ryan budget reli on the same $700 billion in save from medicar that mitt romney and other republican have been attack democrat about.\n",
            "143 : in february, john mccain suggest the bergdahl-taliban swap that he now call outrag and dangerous.\n",
            "144 : caution: kiss and cuddl chicken can be hazard to your health.\n",
            "145 : the obama administr is use as it legal justif for these airstrik (on the islam state), an author for militari forc that the presid himself ha call for repeal of.\n",
            "146 : there ha never been a panther attack in the histori of florida.\n",
            "147 : marco rubio' \"incom skyrocket while hi power increased.\"\n",
            "148 : say republican recal challeng jonathan steitz fail to pay hi taxes.\n",
            "149 : say hi propos payrol tax cut will mean an extra $1,500 in your pocket compar to if we do nothing.\n",
            "150 : say hi view on repar for slaveri are the same as barack obama and hillari clintons.\n",
            "151 : say by reject an expans of medicaid under the new law, georgia wa depriv 25,000 veteran of health care coverage.\n",
            "152 : with the except of babi formula, the feder govern doe not requir ani food to carri an expir date, and state law vari widely.\n",
            "153 : u.s. senat candid jack kingston vote for the cash for clunker program.\n",
            "154 : presid barack obama veto of the keyston xl pipelin kill 42,000 jobs.\n",
            "155 : in hillari clinton tax returns, you saw a lot of incom come from donor to the clinton foundat and peopl who benefit from her state depart term as well.\n",
            "156 : say marco rubio know full well i vote for hi amend to increas militari spend to $697 billion.\n",
            "157 : say joe heck vote to shut down the government.\n",
            "158 : a texa law requir everi high school to have a voter registrar and part of their respons is to make sure that when children becom 18 and becom elig to vote, that they vote.\n",
            "159 : the obama administr is refus to directli arm the kurds.\n",
            "160 : republican tri to block the deficit commission.\n",
            "161 : the state is abl to sharpli curtail contract bargain right for state employe unions.\n",
            "162 : on hi support for sharpli limit collect bargain by public employees.\n",
            "163 : rick perri attempt to fast-track unnecessari coal-fir power plants, which degrad air qualiti and would cost billions. fortunately, a court stop him.\n",
            "164 : say david prosser = scott walker.\n",
            "165 : the hyde amendmentlanguag wa in the (human trafficking) bill. the democrat sponsor admit it wa in the bill, and she vote for it.\n",
            "166 : say joe heck vote 10 time to defund plan parenthood ... and heck oppos a woman right to choose, even when her health is at risk.\n",
            "167 : say hillari clinton call the trans-pacif partnership the gold standard. you call it the gold standard of trade deals. you said it the finest deal youv ever seen.\n",
            "168 : mike martinez ha vote to rais tax and util rate while end free bu servic for seniors.\n",
            "169 : rand paul want to end all feder faith-bas initiatives, and even end the deduct for religi charities.\n",
            "170 : i wrote to secretari paulson, i wrote to feder reserv chairman bernank [in march 2007], and told them thi is someth we have to deal with, and nobodi did anyth about it.\n",
            "171 : medicar began as a public option and now hold 97 percent of the market share.\n",
            "172 : say dan patrick support give a $5,000 taxpayer-fund voucher to everi famili to buy a car.\n",
            "173 : everi major religion is oppos to same-sex marriage.\n",
            "174 : i wake up everi morn in a hous (the white house) that wa built by slaves.\n",
            "175 : congresswoman bachmann actual said we should be 'weaned' off our social secur and medicare. she want to privat social secur and replac medicar with some kind of voucher system.\n",
            "176 : michel bachmann legisl record is offer fail amendments.\n",
            "177 : in 2008, charli crist applaud the pick of sarah palin and said she would do a great job.\n",
            "178 : say u.s. rep. conni mack iv pass onli one bill in seven years.\n",
            "179 : say the director of an anti-abort group receiv a texa grant to provid women health servic believ hiv can be spread through the sewer system.\n",
            "180 : a rural hospit in missouri close everi 8 months. the legislatur failur to expand medicaid ha brought crisi to mani of missouri rural health care providers.\n",
            "181 : obamacar wa the republican plan in the earli 90s.\n",
            "182 : in nine democrat debates, weve not had one question about a woman right to make her own decis about reproduct health care, not one question.\n",
            "183 : say presid john f. kennedi releas a star green bay packer from militari reserv duti so that he could play in the 1961 nfl championship game.\n",
            "184 : u.s. rep. paul broun ha not author ani legisl that ha been adopt by congress.\n",
            "185 : say the u.s. fleet of attack submarin is schedul to fall below the 48 boat that navi say it need to carri out current missions.\n",
            "186 : in the illinoi legislature, barack obama \"vote 'present,' instead of ye or no\" on seven vote involv abort rights.\n",
            "187 : say the cascad effect of climat chang contribut to the rise of isis.\n",
            "188 : say barack obama promis to halv the deficit in hi first term.\n",
            "189 : say mark pryorcut medicar to pay for obamacare.\n",
            "190 : say tim kain actual tri to rais tax by about $4 billion.\n",
            "191 : femal buffalo lead the herd.\n"
          ]
        }
      ]
    }
  ]
}